{
 "cells": [
  {
   "cell_type": "code",
   "execution_count": 1,
   "metadata": {},
   "outputs": [
    {
     "name": "stdout",
     "output_type": "stream",
     "text": [
      "Requirement already satisfied: BeautifulSoup4 in c:\\users\\nhk06\\miniconda3\\lib\\site-packages (4.12.3)\n",
      "Requirement already satisfied: soupsieve>1.2 in c:\\users\\nhk06\\miniconda3\\lib\\site-packages (from BeautifulSoup4) (2.6)\n"
     ]
    }
   ],
   "source": [
    "!pip install BeautifulSoup4"
   ]
  },
  {
   "cell_type": "code",
   "execution_count": 13,
   "metadata": {},
   "outputs": [],
   "source": [
    "import requests\n",
    "import json\n",
    "import sys\n",
    "import os\n",
    "import bs4 as soup\n",
    "import re"
   ]
  },
  {
   "cell_type": "code",
   "execution_count": 79,
   "metadata": {},
   "outputs": [],
   "source": [
    "urls = [\"https://sushiworld.com.vn/danh-muc/thuc-don-online/\",'https://sushiworld.com.vn/danh-muc/thuc-don-online/page/2/','https://sushiworld.com.vn/danh-muc/thuc-don-online/page/3/']\n",
    "\n",
    "data = []\n",
    "i = 0"
   ]
  },
  {
   "cell_type": "code",
   "execution_count": 80,
   "metadata": {},
   "outputs": [
    {
     "name": "stdout",
     "output_type": "stream",
     "text": [
      "1 2 3 4 5 6 7 8 9 10 11 12 13 14 15 16 17 18 19 20 21 22 23 24 25 26 27 28 29 30 31 32 33 34 35 36 37 38 39 40 41 42 43 44 45 46 47 48 49 50 51 52 53 54 55 56 57 58 59 59 error\n",
      "60 61 62 63 64 65 66 67 68 69 70 71 72 73 74 75 76 77 78 79 80 81 82 83 84 85 86 87 88 89 90 91 92 93 94 95 96 97 98 99 100 101 102 103 104 105 106 107 108 109 110 111 112 113 114 115 116 117 118 119 120 121 122 123 124 125 126 127 128 129 130 131 132 133 134 135 136 137 138 139 140 141 142 143 144 145 146 147 148 149 150 151 152 153 154 155 156 157 158 159 160 161 162 163 164 165 166 167 168 169 170 171 172 173 174 "
     ]
    }
   ],
   "source": [
    "for url in urls:\n",
    "    client = requests.get(url)\n",
    "    html = soup.BeautifulSoup(client.text, 'html.parser')\n",
    "    container = html.find('div',class_=re.compile('^products row row-small'))\n",
    "    items = container.find_all('div',class_=re.compile('^product-small box'))\n",
    "    for item in items:\n",
    "        i+=1\n",
    "        print(i, end=' ')\n",
    "        name = item.find('p', class_=re.compile('^name product-title')).text.strip()\n",
    "        category = item.find('p', class_=re.compile('category')).text.strip()\n",
    "        price = ''\n",
    "        try:\n",
    "            price = item.find('span',class_='price').text.strip().split('.')[0] + '000'\n",
    "        except:\n",
    "            print(f'{i} error')\n",
    "        image = item.find('img')['data-src']\n",
    "        id = category.lower() + i.__str__()\n",
    "        data.append({\n",
    "            'id': id,\n",
    "            'name': name,\n",
    "            'category': category,\n",
    "            'price': price,\n",
    "            'image': image\n",
    "        })\n"
   ]
  },
  {
   "cell_type": "code",
   "execution_count": 82,
   "metadata": {},
   "outputs": [],
   "source": [
    "jSON = json.dumps(data)\n",
    "data\n",
    "\n",
    "for i in range(len(data)):\n",
    "    data[i]['id'] = data[i]['id'].replace(' ','')"
   ]
  },
  {
   "cell_type": "code",
   "execution_count": 83,
   "metadata": {},
   "outputs": [],
   "source": [
    "json.dump(data, open('sushiworld.json', 'w'), indent=4)"
   ]
  }
 ],
 "metadata": {
  "kernelspec": {
   "display_name": "base",
   "language": "python",
   "name": "python3"
  },
  "language_info": {
   "codemirror_mode": {
    "name": "ipython",
    "version": 3
   },
   "file_extension": ".py",
   "mimetype": "text/x-python",
   "name": "python",
   "nbconvert_exporter": "python",
   "pygments_lexer": "ipython3",
   "version": "3.12.3"
  }
 },
 "nbformat": 4,
 "nbformat_minor": 2
}
