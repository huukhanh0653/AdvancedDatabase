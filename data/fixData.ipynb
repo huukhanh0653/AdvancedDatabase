{
 "cells": [
  {
   "cell_type": "code",
   "execution_count": 1,
   "metadata": {},
   "outputs": [],
   "source": [
    "import pandas as pd\n",
    "import numpy as np\n",
    "from datetime import datetime, timedelta\n",
    "import random\n",
    "\n",
    "def find_min_datetime(series):\n",
    "    # Ensure the series is of datetime type\n",
    "    series = pd.to_datetime(series)\n",
    "    \n",
    "    # Find and return the minimum datetime value\n",
    "    return series.min()\n",
    "\n",
    "def find_max_datetime(series):\n",
    "    # Ensure the series is of datetime type\n",
    "    series = pd.to_datetime(series)\n",
    "    \n",
    "    # Find and return the maximum datetime value\n",
    "    return series.max()\n",
    "\n",
    "def get_datetime_range(series):\n",
    "    # Ensure the series is of datetime type\n",
    "    series = pd.to_datetime(series)\n",
    "    \n",
    "    # Find and return the range of datetime values\n",
    "    return (series.min(), series.max())\n",
    "\n",
    "def create_time_range(start, end):\n",
    "    # Create a range of datetime values\n",
    "    time_range = {\n",
    "        \"start\": datetime.strptime(start, \"%Y-%m-%d %H:%M:%S\"),\n",
    "        \"end\": datetime.strptime(end, \"%Y-%m-%d %H:%M:%S\")\n",
    "    }\n",
    "    \n",
    "    return time_range\n",
    "\n",
    "def randomDate(time_range):\n",
    "    while True:\n",
    "        try:\n",
    "            start = time_range[\"start\"]\n",
    "            end = time_range[\"end\"]\n",
    "            delta = end - start\n",
    "            int_delta = delta.days\n",
    "            random_day = random.randint(0, int_delta)\n",
    "            result = (start + timedelta(days=random_day)).date().strftime(\"%Y-%m-%d\")\n",
    "            datetime.strptime(result, \"%Y-%m-%d\")  # Validate the date\n",
    "            if result.endswith(\"02-29\"):\n",
    "                continue  # Avoid 29th February\n",
    "            return result\n",
    "        except ValueError:\n",
    "            continue\n",
    "\n",
    "def createADateLaterThan(date):\n",
    "    while True:\n",
    "        try:\n",
    "            result = (date + timedelta(days=random.randint(1, 365))).date().strftime(\"%Y-%m-%d\")\n",
    "            datetime.strptime(result, \"%Y-%m-%d\")  # Validate the date\n",
    "            if result.endswith(\"02-29\"):\n",
    "                continue  # Avoid 29th February\n",
    "            return result\n",
    "        except ValueError:\n",
    "            continue\n",
    "        \n",
    "def isDateBetween(date, start, end):\n",
    "    return datetime.strptime(start,\"%Y-%m-%d\") <= datetime.strptime(date,\"%Y-%m-%d\") \\\n",
    "                                            <= datetime.strptime(end,\"%Y-%m-%d\") "
   ]
  },
  {
   "cell_type": "code",
   "execution_count": 2,
   "metadata": {},
   "outputs": [],
   "source": [
    "CHONMON = pd.read_csv('ChonMon.csv')\n",
    "PHIEUDATMON = pd.read_csv('PhieuDatMon.csv')\n",
    "NHANVIEN = pd.read_csv('NhanVien.csv')\n",
    "CHINHANH = pd.read_csv('ChiNhanh.csv')\n",
    "DOICN = pd.read_csv('DoiCN.csv')"
   ]
  },
  {
   "cell_type": "code",
   "execution_count": 28,
   "metadata": {},
   "outputs": [],
   "source": [
    "def findValidBranch(NgayLap, MaNV):\n",
    "    history = DOICN[DOICN['MaNV'] == MaNV]\n",
    "    NhanVien = NHANVIEN[NHANVIEN['MaNV'] == MaNV]\n",
    "    for index, row in history.iterrows():\n",
    "        if isDateBetween(NgayLap, row['NgayBatDau'], row['NgayKetThuc']):\n",
    "            return row['MaCN']\n",
    "    return NhanVien['CN_HienTai'].values[0]"
   ]
  },
  {
   "cell_type": "code",
   "execution_count": 29,
   "metadata": {},
   "outputs": [],
   "source": [
    "for index, row in PHIEUDATMON.iterrows():\n",
    "    NgayLap = datetime.strptime(row['NgayLap'], \"%Y-%m-%d %H:%M:%S\").strftime(\"%Y-%m-%d\")\n",
    "    MaNV = row['MaNV']\n",
    "    PHIEUDATMON.at[index, 'MaCN'] = findValidBranch(NgayLap, MaNV)\n",
    "\n",
    "# Save the updated DataFrame to a CSV file\n",
    "PHIEUDATMON.to_csv('PhieuDatMon.csv', index=False)"
   ]
  },
  {
   "cell_type": "code",
   "execution_count": 3,
   "metadata": {},
   "outputs": [],
   "source": [
    "PHIEUDATMON = pd.read_csv('PhieuDatMon.csv')\n",
    "PHIEUDATMON['MaCN'] = PHIEUDATMON['MaCN'].astype(int)\n",
    "BAN = pd.read_csv('Ban.csv')\n",
    "BAN['MaCN'] = BAN['MaCN'].astype(int)"
   ]
  },
  {
   "cell_type": "code",
   "execution_count": 4,
   "metadata": {},
   "outputs": [],
   "source": [
    "MaBan = []\n",
    "for index, row in PHIEUDATMON.iterrows():\n",
    "    MaCN = row['MaCN']\n",
    "    BAN_CN = BAN[BAN['MaCN'] == MaCN]\n",
    "    MaBan.append(random.choice(BAN_CN['MaBan'].values))\n"
   ]
  },
  {
   "cell_type": "code",
   "execution_count": 13,
   "metadata": {},
   "outputs": [
    {
     "ename": "KeyError",
     "evalue": "\"['sql_command'] not found in axis\"",
     "output_type": "error",
     "traceback": [
      "\u001b[1;31m---------------------------------------------------------------------------\u001b[0m",
      "\u001b[1;31mKeyError\u001b[0m                                  Traceback (most recent call last)",
      "Cell \u001b[1;32mIn[13], line 2\u001b[0m\n\u001b[0;32m      1\u001b[0m PHIEUDATMON[\u001b[38;5;124m'\u001b[39m\u001b[38;5;124mMaBan\u001b[39m\u001b[38;5;124m'\u001b[39m] \u001b[38;5;241m=\u001b[39m MaBan\n\u001b[1;32m----> 2\u001b[0m PHIEUDATMON\u001b[38;5;241m=\u001b[39m \u001b[43mPHIEUDATMON\u001b[49m\u001b[38;5;241;43m.\u001b[39;49m\u001b[43mdrop\u001b[49m\u001b[43m(\u001b[49m\u001b[43mcolumns\u001b[49m\u001b[38;5;241;43m=\u001b[39;49m\u001b[43m[\u001b[49m\u001b[38;5;124;43m'\u001b[39;49m\u001b[38;5;124;43msql_command\u001b[39;49m\u001b[38;5;124;43m'\u001b[39;49m\u001b[43m]\u001b[49m\u001b[43m,\u001b[49m\u001b[43m \u001b[49m\u001b[43minplace\u001b[49m\u001b[38;5;241;43m=\u001b[39;49m\u001b[38;5;28;43;01mTrue\u001b[39;49;00m\u001b[43m)\u001b[49m\n\u001b[0;32m      3\u001b[0m PHIEUDATMON\u001b[38;5;241m.\u001b[39mto_csv(\u001b[38;5;124m'\u001b[39m\u001b[38;5;124mPhieuDatMon.csv\u001b[39m\u001b[38;5;124m'\u001b[39m, index\u001b[38;5;241m=\u001b[39m\u001b[38;5;28;01mFalse\u001b[39;00m)\n",
      "File \u001b[1;32mc:\\Users\\nhk06\\miniconda3\\Lib\\site-packages\\pandas\\core\\frame.py:5581\u001b[0m, in \u001b[0;36mDataFrame.drop\u001b[1;34m(self, labels, axis, index, columns, level, inplace, errors)\u001b[0m\n\u001b[0;32m   5433\u001b[0m \u001b[38;5;28;01mdef\u001b[39;00m \u001b[38;5;21mdrop\u001b[39m(\n\u001b[0;32m   5434\u001b[0m     \u001b[38;5;28mself\u001b[39m,\n\u001b[0;32m   5435\u001b[0m     labels: IndexLabel \u001b[38;5;241m|\u001b[39m \u001b[38;5;28;01mNone\u001b[39;00m \u001b[38;5;241m=\u001b[39m \u001b[38;5;28;01mNone\u001b[39;00m,\n\u001b[1;32m   (...)\u001b[0m\n\u001b[0;32m   5442\u001b[0m     errors: IgnoreRaise \u001b[38;5;241m=\u001b[39m \u001b[38;5;124m\"\u001b[39m\u001b[38;5;124mraise\u001b[39m\u001b[38;5;124m\"\u001b[39m,\n\u001b[0;32m   5443\u001b[0m ) \u001b[38;5;241m-\u001b[39m\u001b[38;5;241m>\u001b[39m DataFrame \u001b[38;5;241m|\u001b[39m \u001b[38;5;28;01mNone\u001b[39;00m:\n\u001b[0;32m   5444\u001b[0m \u001b[38;5;250m    \u001b[39m\u001b[38;5;124;03m\"\"\"\u001b[39;00m\n\u001b[0;32m   5445\u001b[0m \u001b[38;5;124;03m    Drop specified labels from rows or columns.\u001b[39;00m\n\u001b[0;32m   5446\u001b[0m \n\u001b[1;32m   (...)\u001b[0m\n\u001b[0;32m   5579\u001b[0m \u001b[38;5;124;03m            weight  1.0     0.8\u001b[39;00m\n\u001b[0;32m   5580\u001b[0m \u001b[38;5;124;03m    \"\"\"\u001b[39;00m\n\u001b[1;32m-> 5581\u001b[0m     \u001b[38;5;28;01mreturn\u001b[39;00m \u001b[38;5;28;43msuper\u001b[39;49m\u001b[43m(\u001b[49m\u001b[43m)\u001b[49m\u001b[38;5;241;43m.\u001b[39;49m\u001b[43mdrop\u001b[49m\u001b[43m(\u001b[49m\n\u001b[0;32m   5582\u001b[0m \u001b[43m        \u001b[49m\u001b[43mlabels\u001b[49m\u001b[38;5;241;43m=\u001b[39;49m\u001b[43mlabels\u001b[49m\u001b[43m,\u001b[49m\n\u001b[0;32m   5583\u001b[0m \u001b[43m        \u001b[49m\u001b[43maxis\u001b[49m\u001b[38;5;241;43m=\u001b[39;49m\u001b[43maxis\u001b[49m\u001b[43m,\u001b[49m\n\u001b[0;32m   5584\u001b[0m \u001b[43m        \u001b[49m\u001b[43mindex\u001b[49m\u001b[38;5;241;43m=\u001b[39;49m\u001b[43mindex\u001b[49m\u001b[43m,\u001b[49m\n\u001b[0;32m   5585\u001b[0m \u001b[43m        \u001b[49m\u001b[43mcolumns\u001b[49m\u001b[38;5;241;43m=\u001b[39;49m\u001b[43mcolumns\u001b[49m\u001b[43m,\u001b[49m\n\u001b[0;32m   5586\u001b[0m \u001b[43m        \u001b[49m\u001b[43mlevel\u001b[49m\u001b[38;5;241;43m=\u001b[39;49m\u001b[43mlevel\u001b[49m\u001b[43m,\u001b[49m\n\u001b[0;32m   5587\u001b[0m \u001b[43m        \u001b[49m\u001b[43minplace\u001b[49m\u001b[38;5;241;43m=\u001b[39;49m\u001b[43minplace\u001b[49m\u001b[43m,\u001b[49m\n\u001b[0;32m   5588\u001b[0m \u001b[43m        \u001b[49m\u001b[43merrors\u001b[49m\u001b[38;5;241;43m=\u001b[39;49m\u001b[43merrors\u001b[49m\u001b[43m,\u001b[49m\n\u001b[0;32m   5589\u001b[0m \u001b[43m    \u001b[49m\u001b[43m)\u001b[49m\n",
      "File \u001b[1;32mc:\\Users\\nhk06\\miniconda3\\Lib\\site-packages\\pandas\\core\\generic.py:4788\u001b[0m, in \u001b[0;36mNDFrame.drop\u001b[1;34m(self, labels, axis, index, columns, level, inplace, errors)\u001b[0m\n\u001b[0;32m   4786\u001b[0m \u001b[38;5;28;01mfor\u001b[39;00m axis, labels \u001b[38;5;129;01min\u001b[39;00m axes\u001b[38;5;241m.\u001b[39mitems():\n\u001b[0;32m   4787\u001b[0m     \u001b[38;5;28;01mif\u001b[39;00m labels \u001b[38;5;129;01mis\u001b[39;00m \u001b[38;5;129;01mnot\u001b[39;00m \u001b[38;5;28;01mNone\u001b[39;00m:\n\u001b[1;32m-> 4788\u001b[0m         obj \u001b[38;5;241m=\u001b[39m \u001b[43mobj\u001b[49m\u001b[38;5;241;43m.\u001b[39;49m\u001b[43m_drop_axis\u001b[49m\u001b[43m(\u001b[49m\u001b[43mlabels\u001b[49m\u001b[43m,\u001b[49m\u001b[43m \u001b[49m\u001b[43maxis\u001b[49m\u001b[43m,\u001b[49m\u001b[43m \u001b[49m\u001b[43mlevel\u001b[49m\u001b[38;5;241;43m=\u001b[39;49m\u001b[43mlevel\u001b[49m\u001b[43m,\u001b[49m\u001b[43m \u001b[49m\u001b[43merrors\u001b[49m\u001b[38;5;241;43m=\u001b[39;49m\u001b[43merrors\u001b[49m\u001b[43m)\u001b[49m\n\u001b[0;32m   4790\u001b[0m \u001b[38;5;28;01mif\u001b[39;00m inplace:\n\u001b[0;32m   4791\u001b[0m     \u001b[38;5;28mself\u001b[39m\u001b[38;5;241m.\u001b[39m_update_inplace(obj)\n",
      "File \u001b[1;32mc:\\Users\\nhk06\\miniconda3\\Lib\\site-packages\\pandas\\core\\generic.py:4830\u001b[0m, in \u001b[0;36mNDFrame._drop_axis\u001b[1;34m(self, labels, axis, level, errors, only_slice)\u001b[0m\n\u001b[0;32m   4828\u001b[0m         new_axis \u001b[38;5;241m=\u001b[39m axis\u001b[38;5;241m.\u001b[39mdrop(labels, level\u001b[38;5;241m=\u001b[39mlevel, errors\u001b[38;5;241m=\u001b[39merrors)\n\u001b[0;32m   4829\u001b[0m     \u001b[38;5;28;01melse\u001b[39;00m:\n\u001b[1;32m-> 4830\u001b[0m         new_axis \u001b[38;5;241m=\u001b[39m \u001b[43maxis\u001b[49m\u001b[38;5;241;43m.\u001b[39;49m\u001b[43mdrop\u001b[49m\u001b[43m(\u001b[49m\u001b[43mlabels\u001b[49m\u001b[43m,\u001b[49m\u001b[43m \u001b[49m\u001b[43merrors\u001b[49m\u001b[38;5;241;43m=\u001b[39;49m\u001b[43merrors\u001b[49m\u001b[43m)\u001b[49m\n\u001b[0;32m   4831\u001b[0m     indexer \u001b[38;5;241m=\u001b[39m axis\u001b[38;5;241m.\u001b[39mget_indexer(new_axis)\n\u001b[0;32m   4833\u001b[0m \u001b[38;5;66;03m# Case for non-unique axis\u001b[39;00m\n\u001b[0;32m   4834\u001b[0m \u001b[38;5;28;01melse\u001b[39;00m:\n",
      "File \u001b[1;32mc:\\Users\\nhk06\\miniconda3\\Lib\\site-packages\\pandas\\core\\indexes\\base.py:7070\u001b[0m, in \u001b[0;36mIndex.drop\u001b[1;34m(self, labels, errors)\u001b[0m\n\u001b[0;32m   7068\u001b[0m \u001b[38;5;28;01mif\u001b[39;00m mask\u001b[38;5;241m.\u001b[39many():\n\u001b[0;32m   7069\u001b[0m     \u001b[38;5;28;01mif\u001b[39;00m errors \u001b[38;5;241m!=\u001b[39m \u001b[38;5;124m\"\u001b[39m\u001b[38;5;124mignore\u001b[39m\u001b[38;5;124m\"\u001b[39m:\n\u001b[1;32m-> 7070\u001b[0m         \u001b[38;5;28;01mraise\u001b[39;00m \u001b[38;5;167;01mKeyError\u001b[39;00m(\u001b[38;5;124mf\u001b[39m\u001b[38;5;124m\"\u001b[39m\u001b[38;5;132;01m{\u001b[39;00mlabels[mask]\u001b[38;5;241m.\u001b[39mtolist()\u001b[38;5;132;01m}\u001b[39;00m\u001b[38;5;124m not found in axis\u001b[39m\u001b[38;5;124m\"\u001b[39m)\n\u001b[0;32m   7071\u001b[0m     indexer \u001b[38;5;241m=\u001b[39m indexer[\u001b[38;5;241m~\u001b[39mmask]\n\u001b[0;32m   7072\u001b[0m \u001b[38;5;28;01mreturn\u001b[39;00m \u001b[38;5;28mself\u001b[39m\u001b[38;5;241m.\u001b[39mdelete(indexer)\n",
      "\u001b[1;31mKeyError\u001b[0m: \"['sql_command'] not found in axis\""
     ]
    }
   ],
   "source": [
    "PHIEUDATMON['MaBan'] = MaBan\n",
    "PHIEUDATMON = PHIEUDATMON.drop(columns=['sql_command'], inplace=True)\n",
    "PHIEUDATMON.to_csv('PhieuDatMon.csv', index=False)"
   ]
  },
  {
   "cell_type": "code",
   "execution_count": 12,
   "metadata": {},
   "outputs": [],
   "source": [
    "# Generate insert SQL commands\n",
    "def create_insert_command(index_row):\n",
    "    index, row = index_row\n",
    "    values = \"', '\".join([str(value) for value in row.values])\n",
    "    return f\"INSERT INTO PHIEUDATMON ({', '.join(PHIEUDATMON.columns)}) VALUES ('{values}');\"\n",
    "\n",
    "insert_commands = list(map(create_insert_command, PHIEUDATMON.iterrows()))\n",
    "\n",
    "# Write the commands to an SQL file\n",
    "with open('../src/backend/database/Insert_PhieuDatMon.sql', 'w') as file:\n",
    "    for command in insert_commands:\n",
    "        file.write(command + '\\n')"
   ]
  }
 ],
 "metadata": {
  "kernelspec": {
   "display_name": "base",
   "language": "python",
   "name": "python3"
  },
  "language_info": {
   "codemirror_mode": {
    "name": "ipython",
    "version": 3
   },
   "file_extension": ".py",
   "mimetype": "text/x-python",
   "name": "python",
   "nbconvert_exporter": "python",
   "pygments_lexer": "ipython3",
   "version": "3.12.3"
  }
 },
 "nbformat": 4,
 "nbformat_minor": 2
}
