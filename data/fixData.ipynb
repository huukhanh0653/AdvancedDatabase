{
 "cells": [
  {
   "cell_type": "code",
   "execution_count": 1,
   "metadata": {},
   "outputs": [],
   "source": [
    "import pandas as pd\n",
    "import numpy as np\n",
    "from datetime import datetime, timedelta\n",
    "import random\n",
    "\n",
    "def find_min_datetime(series):\n",
    "    # Ensure the series is of datetime type\n",
    "    series = pd.to_datetime(series)\n",
    "    \n",
    "    # Find and return the minimum datetime value\n",
    "    return series.min()\n",
    "\n",
    "def find_max_datetime(series):\n",
    "    # Ensure the series is of datetime type\n",
    "    series = pd.to_datetime(series)\n",
    "    \n",
    "    # Find and return the maximum datetime value\n",
    "    return series.max()\n",
    "\n",
    "def get_datetime_range(series):\n",
    "    # Ensure the series is of datetime type\n",
    "    series = pd.to_datetime(series)\n",
    "    \n",
    "    # Find and return the range of datetime values\n",
    "    return (series.min(), series.max())\n",
    "\n",
    "def create_time_range(start, end):\n",
    "    # Create a range of datetime values\n",
    "    time_range = {\n",
    "        \"start\": datetime.strptime(start, \"%Y-%m-%d %H:%M:%S\"),\n",
    "        \"end\": datetime.strptime(end, \"%Y-%m-%d %H:%M:%S\")\n",
    "    }\n",
    "    \n",
    "    return time_range\n",
    "\n",
    "def randomDate(time_range):\n",
    "    while True:\n",
    "        try:\n",
    "            start = time_range[\"start\"]\n",
    "            end = time_range[\"end\"]\n",
    "            delta = end - start\n",
    "            int_delta = delta.days\n",
    "            random_day = random.randint(0, int_delta)\n",
    "            result = (start + timedelta(days=random_day)).date().strftime(\"%Y-%m-%d\")\n",
    "            datetime.strptime(result, \"%Y-%m-%d\")  # Validate the date\n",
    "            if result.endswith(\"02-29\"):\n",
    "                continue  # Avoid 29th February\n",
    "            return result\n",
    "        except ValueError:\n",
    "            continue\n",
    "\n",
    "def createADateLaterThan(date):\n",
    "    while True:\n",
    "        try:\n",
    "            result = (date + timedelta(days=random.randint(1, 365))).date().strftime(\"%Y-%m-%d\")\n",
    "            datetime.strptime(result, \"%Y-%m-%d\")  # Validate the date\n",
    "            if result.endswith(\"02-29\"):\n",
    "                continue  # Avoid 29th February\n",
    "            return result\n",
    "        except ValueError:\n",
    "            continue\n",
    "        \n",
    "def isDateBetween(date, start, end):\n",
    "    return datetime.strptime(start,\"%Y-%m-%d\") <= datetime.strptime(date,\"%Y-%m-%d\") \\\n",
    "                                            <= datetime.strptime(end,\"%Y-%m-%d\") "
   ]
  },
  {
   "cell_type": "code",
   "execution_count": 2,
   "metadata": {},
   "outputs": [],
   "source": [
    "CHONMON = pd.read_csv('ChonMon.csv')\n",
    "PHIEUDATMON = pd.read_csv('PhieuDatMon.csv')\n",
    "NHANVIEN = pd.read_csv('NhanVien.csv')\n",
    "CHINHANH = pd.read_csv('ChiNhanh.csv')\n",
    "DOICN = pd.read_csv('DoiCN.csv')"
   ]
  },
  {
   "cell_type": "code",
   "execution_count": 28,
   "metadata": {},
   "outputs": [],
   "source": [
    "def findValidBranch(NgayLap, MaNV):\n",
    "    history = DOICN[DOICN['MaNV'] == MaNV]\n",
    "    NhanVien = NHANVIEN[NHANVIEN['MaNV'] == MaNV]\n",
    "    for index, row in history.iterrows():\n",
    "        if isDateBetween(NgayLap, row['NgayBatDau'], row['NgayKetThuc']):\n",
    "            return row['MaCN']\n",
    "    return NhanVien['CN_HienTai'].values[0]"
   ]
  },
  {
   "cell_type": "code",
   "execution_count": 29,
   "metadata": {},
   "outputs": [],
   "source": [
    "for index, row in PHIEUDATMON.iterrows():\n",
    "    NgayLap = datetime.strptime(row['NgayLap'], \"%Y-%m-%d %H:%M:%S\").strftime(\"%Y-%m-%d\")\n",
    "    MaNV = row['MaNV']\n",
    "    PHIEUDATMON.at[index, 'MaCN'] = findValidBranch(NgayLap, MaNV)\n",
    "\n",
    "# Save the updated DataFrame to a CSV file\n",
    "PHIEUDATMON.to_csv('PhieuDatMon.csv', index=False)"
   ]
  },
  {
   "cell_type": "code",
   "execution_count": 3,
   "metadata": {},
   "outputs": [],
   "source": [
    "PHIEUDATMON = pd.read_csv('PhieuDatMon.csv')\n",
    "PHIEUDATMON['MaCN'] = PHIEUDATMON['MaCN'].astype(int)\n",
    "BAN = pd.read_csv('Ban.csv')\n",
    "BAN['MaCN'] = BAN['MaCN'].astype(int)"
   ]
  },
  {
   "cell_type": "code",
   "execution_count": 4,
   "metadata": {},
   "outputs": [],
   "source": [
    "MaBan = []\n",
    "for index, row in PHIEUDATMON.iterrows():\n",
    "    MaCN = row['MaCN']\n",
    "    BAN_CN = BAN[BAN['MaCN'] == MaCN]\n",
    "    MaBan.append(random.choice(BAN_CN['MaBan'].values))\n"
   ]
  },
  {
   "cell_type": "code",
   "execution_count": null,
   "metadata": {},
   "outputs": [],
   "source": [
    "PHIEUDATMON['MaBan'] = MaBan\n",
    "PHIEUDATMON = PHIEUDATMON.drop(columns=['sql_command'], inplace=True)\n",
    "PHIEUDATMON.to_csv('PhieuDatMon.csv', index=False)"
   ]
  },
  {
   "cell_type": "code",
   "execution_count": 12,
   "metadata": {},
   "outputs": [],
   "source": [
    "# Generate insert SQL commands\n",
    "def create_insert_command(index_row):\n",
    "    index, row = index_row\n",
    "    values = \"', '\".join([str(value) for value in row.values])\n",
    "    return f\"INSERT INTO PHIEUDATMON ({', '.join(PHIEUDATMON.columns)}) VALUES ('{values}');\"\n",
    "\n",
    "insert_commands = list(map(create_insert_command, PHIEUDATMON.iterrows()))\n",
    "\n",
    "# Write the commands to an SQL file\n",
    "with open('../src/backend/database/Insert_PhieuDatMon.sql', 'w') as file:\n",
    "    for command in insert_commands:\n",
    "        file.write(command + '\\n')"
   ]
  },
  {
   "cell_type": "code",
   "execution_count": null,
   "metadata": {},
   "outputs": [],
   "source": [
    "import pandas as pd\n",
    "import random\n",
    "import numpy as np\n",
    "\n",
    "HOADON = pd.read_csv('HoaDon.csv')\n",
    "\n",
    "PHIEUDANHGIA = pd.DataFrame()\n",
    "\n",
    "PHIEUDANHGIA['MaPhieuDG'] = np.arange(1, 100001)\n",
    "PHIEUDANHGIA['MaHD'] = np.random.choice(HOADON['MaHD'], 100000, replace=False)\n",
    "PHIEUDANHGIA['DiemPhucVu'] = np.random.randint(2, 6, 100000)\n",
    "PHIEUDANHGIA['DiemViTri'] = np.random.randint(2, 6, 100000)\n",
    "PHIEUDANHGIA['DiemMonAn'] = np.random.randint(2, 6, 100000)\n",
    "PHIEUDANHGIA['DiemKhongGian'] = np.random.randint(2, 6, 100000)\n",
    "PHIEUDANHGIA['DiemGiaCa'] = np.random.randint(2, 6, 100000)\n",
    "\n",
    "PHIEUDANHGIA.to_csv('PhieuDanhGia.csv', index=False)"
   ]
  },
  {
   "cell_type": "code",
   "execution_count": null,
   "metadata": {},
   "outputs": [],
   "source": [
    "sql_command = \"INSERT INTO PHIEUDANHGIA (MaPhieuDG, MaHD, DiemPhucVu, DiemViTri, DiemMonAn, DiemKhongGian, DiemGiaCa) VALUES \"\n",
    "\n",
    "values_list = map(lambda row: f\"({', '.join([str(value) for value in row.values])})\", PHIEUDANHGIA.iterrows())\n",
    "sql_command += ', '.join(values_list)\n",
    "commands = []\n",
    "for i in range(0, len(PHIEUDANHGIA), 1000):\n",
    "    chunk = PHIEUDANHGIA.iloc[i:i+1000]\n",
    "    values_list = map(lambda row: f\"({', '.join([str(value) for value in row.values])})\", chunk.iterrows())\n",
    "    command = sql_command + ', '.join(values_list) + \"; GO\"\n",
    "    commands.append(command)\n",
    "\n",
    "# Write the commands to an SQL file\n",
    "with open('../src/backend/database/Insert_PhieuDanhGia.sql', 'w') as file:\n",
    "    for command in commands:\n",
    "        file.write(command + '\\n')\n"
   ]
  }
 ],
 "metadata": {
  "kernelspec": {
   "display_name": "base",
   "language": "python",
   "name": "python3"
  },
  "language_info": {
   "codemirror_mode": {
    "name": "ipython",
    "version": 3
   },
   "file_extension": ".py",
   "mimetype": "text/x-python",
   "name": "python",
   "nbconvert_exporter": "python",
   "pygments_lexer": "ipython3",
   "version": "3.12.3"
  }
 },
 "nbformat": 4,
 "nbformat_minor": 2
}
