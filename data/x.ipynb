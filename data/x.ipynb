{
 "cells": [
  {
   "cell_type": "code",
   "execution_count": 5,
   "metadata": {},
   "outputs": [],
   "source": [
    "import pandas as pd\n",
    "import numpy as np\n",
    "\n",
    "PHIEUDATMON= pd.read_csv('PHIEUDATMON.csv')\n",
    "PHIEUDATMON = PHIEUDATMON[197600-1:-1]\n",
    "\n",
    "phieu_dat_mon_values = []\n",
    "\n",
    "for index, row in PHIEUDATMON.iterrows():\n",
    "    phieu_dat_mon_values.append(f'''({row['MaPhieu']}, '{row['NgayLap']}', {row['MaBan']}, '{row['MaCN']}', {row['TongTien']}, {row['MaNV']}, {row['MaHD']})''')\n",
    "    \n",
    "sql_command = f''''''\n",
    "\n",
    "sql_command = 'GO\\n'.join(map(lambda value: f'''\n",
    "    INSERT INTO PHIEUDATMON (MaPhieu, NgayLap, MaBan, MaCN, TongTien, MaNV, MaHD)\n",
    "    VALUES {value};\n",
    "    ''', phieu_dat_mon_values))\n",
    "\n",
    "with open('../src/backend/database/Insert_PhieuDatMon_1.sql', 'w') as file:\n",
    "    file.write(sql_command)\n"
   ]
  }
 ],
 "metadata": {
  "kernelspec": {
   "display_name": "base",
   "language": "python",
   "name": "python3"
  },
  "language_info": {
   "codemirror_mode": {
    "name": "ipython",
    "version": 3
   },
   "file_extension": ".py",
   "mimetype": "text/x-python",
   "name": "python",
   "nbconvert_exporter": "python",
   "pygments_lexer": "ipython3",
   "version": "3.12.3"
  }
 },
 "nbformat": 4,
 "nbformat_minor": 2
}
