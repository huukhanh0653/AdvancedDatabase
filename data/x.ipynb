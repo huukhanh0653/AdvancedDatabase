{
 "cells": [
  {
   "cell_type": "code",
   "execution_count": 4,
   "metadata": {},
   "outputs": [],
   "source": [
    "import pandas as pd\n",
    "import numpy as np\n",
    "\n",
    "PHIEUDATMON= pd.read_csv('PHIEUDATMON.csv')\n",
    "\n",
    "phieu_dat_mon_values = []\n",
    "\n",
    "for index, row in PHIEUDATMON.iterrows():\n",
    "    phieu_dat_mon_values.append(f'''({row['MaPhieu']}, '{row['NgayLap']}', {row['MaBan']}, {row['TongTien']}, {row['MaNV']}, {row['MaHD']})''')\n",
    "    \n",
    "sql_command = f''''''\n",
    "\n",
    "chunks = [phieu_dat_mon_values[i:i + 1000] for i in range(0, len(phieu_dat_mon_values), 1000)]\n",
    "\n",
    "sql_command = ''''''\n",
    "for chunk in chunks:\n",
    "    sql_command += 'INSERT INTO PHIEUDATMON (MaPhieu, NgayLap, MaBan, TongTien, MaNV, MaHD) VALUES\\n'\n",
    "    sql_command += ',\\n'.join(chunk)\n",
    "    sql_command += ';\\n'\n",
    "    sql_command += '\\nGO\\n'\n",
    "\n",
    "with open('../src/backend/database/Insert_PhieuDatMon.sql', 'w') as file:\n",
    "    file.write(sql_command)\n"
   ]
  },
  {
   "cell_type": "code",
   "execution_count": 10,
   "metadata": {},
   "outputs": [],
   "source": [
    "HOADON = pd.read_csv('HOADON.csv')\n",
    "HOADON[\"MACN\"] = PHIEUDATMON[\"MaCN\"]\n",
    "HOADON['MaThe'] = HOADON['MaThe'].astype(str).str.zfill(6)"
   ]
  },
  {
   "cell_type": "code",
   "execution_count": 12,
   "metadata": {},
   "outputs": [
    {
     "data": {
      "text/plain": [
       "Index(['MaHD', 'GiamGia', 'MaThe', 'NgayLap', 'TongHoaDon', 'isEatIn', 'MACN'], dtype='object')"
      ]
     },
     "execution_count": 12,
     "metadata": {},
     "output_type": "execute_result"
    }
   ],
   "source": [
    "HOADON.columns"
   ]
  },
  {
   "cell_type": "code",
   "execution_count": 13,
   "metadata": {},
   "outputs": [],
   "source": [
    "\n",
    "hoadon_values = []\n",
    "\n",
    "for index, row in HOADON.iterrows():\n",
    "    hoadon_values.append(f'''({row['MaHD']}, '{row['NgayLap']}', {row['GiamGia']}, '{row['MaThe']}', {row['TongHoaDon']}, {row['MACN']}, {row['isEatIn']})''')\n",
    "\n",
    "chunks = [hoadon_values[i:i + 1000] for i in range(0, len(hoadon_values), 1000)]\n",
    "\n",
    "sql_command = ''''''\n",
    "for chunk in chunks:\n",
    "    sql_command += 'INSERT INTO HOADON (MaHD, NgayLap, GiamGia, MaThe, TongHoaDon, MaCN, isEatIn) VALUES\\n'\n",
    "    sql_command += ',\\n'.join(chunk)\n",
    "    sql_command += ';\\n'\n",
    "    sql_command += '\\nGO\\n'\n",
    "    \n",
    "with open('../src/backend/database/Insert_HoaDon.sql', 'w') as file:\n",
    "    file.write(sql_command)\n",
    "    "
   ]
  }
 ],
 "metadata": {
  "kernelspec": {
   "display_name": "base",
   "language": "python",
   "name": "python3"
  },
  "language_info": {
   "codemirror_mode": {
    "name": "ipython",
    "version": 3
   },
   "file_extension": ".py",
   "mimetype": "text/x-python",
   "name": "python",
   "nbconvert_exporter": "python",
   "pygments_lexer": "ipython3",
   "version": "3.12.3"
  }
 },
 "nbformat": 4,
 "nbformat_minor": 2
}
