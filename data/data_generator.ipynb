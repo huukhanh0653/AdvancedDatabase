{
 "cells": [
  {
   "cell_type": "code",
   "execution_count": 1,
   "metadata": {},
   "outputs": [
    {
     "name": "stderr",
     "output_type": "stream",
     "text": [
      "ERROR: Could not find a version that satisfies the requirement itertools (from versions: none)\n",
      "ERROR: No matching distribution found for itertools\n"
     ]
    },
    {
     "name": "stdout",
     "output_type": "stream",
     "text": [
      "Requirement already satisfied: bcrypt in c:\\users\\nhk06\\miniconda3\\lib\\site-packages (4.2.0)\n"
     ]
    }
   ],
   "source": [
    "!pip install itertools\n",
    "!pip install bcrypt"
   ]
  },
  {
   "cell_type": "code",
   "execution_count": 2,
   "metadata": {},
   "outputs": [],
   "source": [
    "import numpy as np\n",
    "import pandas as pd\n",
    "import json\n",
    "import random\n",
    "from datetime import datetime"
   ]
  },
  {
   "cell_type": "markdown",
   "metadata": {},
   "source": [
    "## Sinh dữ liệu và thêm vào bảng CHINHANH"
   ]
  },
  {
   "cell_type": "code",
   "execution_count": 31,
   "metadata": {},
   "outputs": [],
   "source": [
    "tenduong = [ \n",
    "    \"Đường Lê Duẩn\",\n",
    "    \"Đường Hoàng Quốc Việt\",\n",
    "    \"Đường Phạm Văn Đồng\",\n",
    "    \"Đường Xuân Thủy\",\n",
    "    \"Đường Tây Sơn\",\n",
    "    \"Đường Nguyễn Chí Thanh\",\n",
    "    \"Đường Láng Hạ\",\n",
    "    \"Đường Thái Hà\",\n",
    "    \"Đường Chùa Bộc\",\n",
    "    \"Đường Tôn Đức Thắng\",\n",
    "    \"Đường Nguyễn Lương Bằng\",\n",
    "    \"Đường Trường Chinh\",\n",
    "    \"Đường Đại Cồ Việt\",\n",
    "    \"Đường Nguyễn Huệ\",\n",
    "    \"Đường Lê Lợi\",\n",
    "    \"Đường Đồng Khởi\",\n",
    "    \"Đường Pasteur\",\n",
    "    \"Đường Nam Kỳ Khởi Nghĩa\",\n",
    "    \"Đường Hai Bà Trưng\",\n",
    "]\n",
    "\n",
    "\n",
    "KhuVuc = [\n",
    "    {\n",
    "        \"MaKV\": \"MB\",\n",
    "        \"TenKV\": \"MB\"\n",
    "    },\n",
    "    {\n",
    "        \"MaKV\": \"MN\",\n",
    "        \"TenKV\": \"Miền Nam\"\n",
    "    },\n",
    "    {\n",
    "        \"MaKV\": \"MT\",\n",
    "        \"TenKV\": \"Miền Trung\"\n",
    "    }\n",
    "]\n",
    "\n",
    "thanhpho = [\n",
    "    {\n",
    "    \"city\": 'Hồ Chí Minh',\n",
    "    \"area\": 'MN'},\n",
    "    {\n",
    "    \"city\": 'Hà Nội',\n",
    "    \"area\": 'MB'},\n",
    "    {\n",
    "    \"city\": 'Cần Thơ',\n",
    "    \"area\": 'MN'},\n",
    "    {\n",
    "    \"city\": 'Đà Nẵng',\n",
    "    \"area\": 'MT'},\n",
    "    {\n",
    "    \"city\": 'Đà Lạt',\n",
    "    \"area\": 'MT'},\n",
    "    {\n",
    "    \"city\": 'Vũng Tàu',\n",
    "    \"area\": 'MN'},\n",
    "    {\n",
    "    \"city\": 'Bà Rịa',\n",
    "    \"area\": 'MN'},\n",
    "]\n"
   ]
  },
  {
   "cell_type": "code",
   "execution_count": 32,
   "metadata": {},
   "outputs": [],
   "source": [
    "sql_command = f\"INSERT INTO KhuVuc (MaKV, TenKV) VALUES \"\n",
    "\n",
    "sql_command += ', '.join([f\"('{kv['MaKV']}', '{kv['TenKV']}')\" for kv in KhuVuc])\n",
    "\n",
    "with open('Insert_KhuVuc.sql', 'w') as f:\n",
    "    f.write(sql_command)"
   ]
  },
  {
   "cell_type": "code",
   "execution_count": 33,
   "metadata": {},
   "outputs": [
    {
     "data": {
      "text/plain": [
       "15"
      ]
     },
     "execution_count": 33,
     "metadata": {},
     "output_type": "execute_result"
    }
   ],
   "source": [
    "_address = []\n",
    "\n",
    "for i in range(15):\n",
    "    city = random.choice(thanhpho)\n",
    "    _address.append({\n",
    "        \"city\": city['city'],\n",
    "        \"area\": city['area'],\n",
    "        \"street\": random.choice(tenduong),\n",
    "        \"number\": random.randint(1, 600),\n",
    "    })\n",
    "    \n",
    "len(_address)"
   ]
  },
  {
   "cell_type": "markdown",
   "metadata": {},
   "source": [
    "Định dạng lại dữ liệu trong List ChiNhanh"
   ]
  },
  {
   "cell_type": "code",
   "execution_count": 36,
   "metadata": {},
   "outputs": [],
   "source": [
    "ChiNhanh = []\n",
    "\n",
    "i = 0\n",
    "\n",
    "for item in _address:\n",
    "    i+=1\n",
    "    ChiNhanh.append({ \"MaCN\": str(i), \n",
    "                     \"TenCN\": \"Chi nhánh \" + item['street'] + \", \" + item['city'],\n",
    "                     \"DiaChi\": str(item['number']) + \" \" + item['street'] + \", \" + item['city'],\n",
    "                     \"KhuVuc\": item['area'],\n",
    "                     \"tgMoCua\": datetime.strptime(\"09:00\", \"%H:%M\").time().strftime(\"%H:%M\"), \"tgDongCua\": datetime.strptime(\"22:00\", \"%H:%M\").time().strftime(\"%H:%M\"), \n",
    "                     \"SDT\": \"0123456789\",\n",
    "                     \"coXeMay\": random.choice([1, 0]),\n",
    "                     \"coXeHoi\": random.choice([1, 0]),\n",
    "                     \"hasDelivery\": random.choice([1, 0]),\n",
    "    })\n",
    "\n",
    "ChiNhanh = pd.DataFrame(ChiNhanh)\n",
    "ChiNhanh.to_csv('ChiNhanh.csv', index=False)"
   ]
  },
  {
   "cell_type": "markdown",
   "metadata": {},
   "source": [
    "Tạo SQL Script từ list giá trị"
   ]
  },
  {
   "cell_type": "code",
   "execution_count": 22,
   "metadata": {},
   "outputs": [],
   "source": [
    "# Generate SQL command with multiple value sets\n",
    "\n",
    "values = []\n",
    "for index, row in ChiNhanh.iterrows():\n",
    "    value = f\"({row['MaCN']}, N'{row['TenCN']}', N'{row['DiaChi']}', N'{row['KhuVuc']}', '{row['tgMoCua']}', '{row['tgDongCua']}', N'{row['SDT']}', {row['coXeMay']}, {row['coXeHoi']}, {row['hasDelivery']})\"\n",
    "    values.append(value)\n",
    "\n",
    "sql_command = f''' \n",
    "DELETE FROM ChiNhanh \\nGO \\n\n",
    "SET IDENTITY_INSERT ChiNhanh ON \\n\n",
    "INSERT INTO ChiNhanh (MaCN, TenCN, DiaChi, KhuVuc, tgMoCua, tgDongCua, SDT, coXeMay, coXeHoi, hasDelivery) VALUES \n",
    "{',\\n'.join(values)};'''\n",
    "\n",
    "with open('Insert_ChiNhanh.sql', 'w') as f:\n",
    "    f.write(sql_command)"
   ]
  },
  {
   "cell_type": "markdown",
   "metadata": {},
   "source": [
    "## Tên ngẫu nhiên"
   ]
  },
  {
   "cell_type": "code",
   "execution_count": 23,
   "metadata": {},
   "outputs": [],
   "source": [
    "vietnamese_names = [\n",
    "    \"Nguyễn Văn An\", \"Trần Thị Bích\", \"Lê Minh Châu\", \"Phạm Thị Dung\", \"Hoàng Văn Đức\",\n",
    "    \"Phan Thị Hạnh\", \"Vũ Văn Hiếu\", \"Đặng Thị Hoa\", \"Bùi Văn Hùng\", \"Đỗ Thị Lan\",\n",
    "    \"Nguyễn Thị Mai\", \"Trần Văn Nam\", \"Lê Thị Ngọc\", \"Phạm Văn Phúc\", \"Hoàng Thị Quỳnh\",\n",
    "    \"Phan Văn Sơn\", \"Vũ Thị Thanh\", \"Đặng Văn Thắng\", \"Bùi Thị Thu\", \"Đỗ Văn Tiến\",\n",
    "    \"Nguyễn Thị Trang\", \"Trần Văn Tuấn\", \"Lê Thị Vân\", \"Phạm Văn Vinh\", \"Hoàng Thị Yến\",\n",
    "    \"Phan Văn Bình\", \"Vũ Thị Cúc\", \"Đặng Văn Dũng\", \"Bùi Thị Hương\", \"Đỗ Văn Khánh\",\n",
    "    \"Nguyễn Văn Bình\", \"Trần Thị Cẩm\", \"Lê Minh Đạt\", \"Phạm Thị Hồng\", \"Hoàng Văn Hùng\",\n",
    "    \"Phan Thị Kim\", \"Vũ Văn Lâm\", \"Đặng Thị Liên\", \"Bùi Văn Long\", \"Đỗ Thị Minh\",\n",
    "    \"Nguyễn Thị Ngọc\", \"Trần Văn Phong\", \"Lê Thị Phương\", \"Phạm Văn Quang\", \"Hoàng Thị Thanh\",\n",
    "    \"Phan Văn Thắng\", \"Vũ Thị Thảo\", \"Đặng Văn Toàn\", \"Bùi Thị Tuyết\", \"Đỗ Văn Việt\",\n",
    "    \"Nguyễn Văn Hải\", \"Trần Thị Hương\", \"Lê Minh Hoàng\", \"Phạm Thị Lan\", \"Hoàng Văn Lâm\",\n",
    "    \"Phan Thị Lệ\", \"Vũ Văn Long\", \"Đặng Thị Mai\", \"Bùi Văn Minh\", \"Đỗ Thị Nga\",\n",
    "    \"Nguyễn Thị Ngân\", \"Trần Văn Phúc\", \"Lê Thị Quỳnh\", \"Phạm Văn Sơn\", \"Hoàng Thị Thanh\",\n",
    "    \"Phan Văn Thịnh\", \"Vũ Thị Thu\", \"Đặng Văn Toàn\", \"Bùi Thị Tuyết\", \"Đỗ Văn Việt\",\n",
    "    \"Nguyễn Văn An\", \"Trần Thị Bích\", \"Lê Minh Châu\", \"Phạm Thị Dung\", \"Hoàng Văn Đức\",\n",
    "    \"Phan Thị Hạnh\", \"Vũ Văn Hiếu\", \"Đặng Thị Hoa\", \"Bùi Văn Hùng\", \"Đỗ Thị Lan\",\n",
    "    \"Nguyễn Thị Mai\", \"Trần Văn Nam\", \"Lê Thị Ngọc\", \"Phạm Văn Phúc\", \"Hoàng Thị Quỳnh\",\n",
    "    \"Phan Văn Sơn\", \"Vũ Thị Thanh\", \"Đặng Văn Thắng\", \"Bùi Thị Thu\", \"Đỗ Văn Tiến\",\n",
    "    \"Nguyễn Thị Trang\", \"Trần Văn Tuấn\", \"Lê Thị Vân\", \"Phạm Văn Vinh\", \"Hoàng Thị Yến\",\n",
    "    \"Phan Văn Bình\", \"Vũ Thị Cúc\", \"Đặng Văn Dũng\", \"Bùi Thị Hương\", \"Đỗ Văn Khánh\"\n",
    "]\n",
    "\n",
    "english_names = [\n",
    "    \"James Smith\", \"Mary Johnson\", \"John Williams\", \"Patricia Brown\", \"Robert Jones\",\n",
    "    \"Jennifer Garcia\", \"Michael Miller\", \"Linda Davis\", \"William Rodriguez\", \"Elizabeth Martinez\",\n",
    "    \"David Hernandez\", \"Barbara Lopez\", \"Richard Gonzalez\", \"Susan Wilson\", \"Joseph Anderson\",\n",
    "    \"Jessica Thomas\", \"Charles Taylor\", \"Sarah Moore\", \"Christopher Jackson\", \"Karen Martin\",\n",
    "    \"Daniel Lee\", \"Nancy Perez\", \"Matthew Thompson\", \"Betty White\", \"Anthony Harris\",\n",
    "    \"Lisa Sanchez\", \"Mark Clark\", \"Sandra Ramirez\", \"Paul Lewis\", \"Donna Robinson\",\n",
    "    \"Steven Walker\", \"Carol Young\", \"Andrew Allen\", \"Michelle King\", \"Joshua Wright\",\n",
    "    \"Dorothy Scott\", \"Kevin Green\", \"Emily Adams\", \"Brian Baker\", \"Helen Nelson\",\n",
    "    \"George Carter\", \"Deborah Mitchell\", \"Edward Perez\", \"Sharon Roberts\", \"Ronald Turner\",\n",
    "    \"Laura Phillips\", \"Timothy Campbell\", \"Cynthia Parker\", \"Jason Evans\", \"Kathleen Edwards\",\n",
    "    \"Jeffrey Collins\", \"Amy Stewart\", \"Ryan Morris\", \"Shirley Rogers\", \"Jacob Reed\",\n",
    "    \"Angela Cook\", \"Gary Morgan\", \"Brenda Bell\", \"Nicholas Murphy\", \"Pamela Bailey\",\n",
    "    \"Eric Rivera\", \"Martha Cooper\", \"Jonathan Richardson\", \"Frances Cox\", \"Stephen Howard\",\n",
    "    \"Ann Ward\", \"Larry Torres\", \"Ruth Peterson\", \"Justin Gray\", \"Diane Ramirez\",\n",
    "    \"Scott James\", \"Alice Brooks\", \"Brandon Kelly\", \"Julie Sanders\", \"Benjamin Price\",\n",
    "    \"Heather Bennett\", \"Samuel Wood\", \"Teresa Barnes\", \"Gregory Ross\", \"Doris Henderson\",\n",
    "    \"Frank Coleman\", \"Gloria Jenkins\", \"Alexander Perry\", \"Katherine Powell\", \"Raymond Long\",\n",
    "    \"Joan Patterson\", \"Patrick Hughes\", \"Ashley Flores\", \"Jack Washington\", \"Judith Butler\",\n",
    "    \"Dennis Simmons\", \"Megan Foster\", \"Jerry Gonzales\", \"Andrea Bryant\", \"Tyler Alexander\",\n",
    "    \"Virginia Russell\", \"Aaron Griffin\", \"Rachel Diaz\", \"Henry Hayes\", \"Marilyn Myers\"\n",
    "]"
   ]
  },
  {
   "cell_type": "code",
   "execution_count": 9,
   "metadata": {},
   "outputs": [
    {
     "data": {
      "text/plain": [
       "100000"
      ]
     },
     "execution_count": 9,
     "metadata": {},
     "output_type": "execute_result"
    }
   ],
   "source": [
    "names = pd.DataFrame(vietnamese_names*500 + english_names*500, columns=['HoTen'])\n",
    "\n",
    "names.sort_values('HoTen', inplace=True)\n",
    "\n",
    "len(names)"
   ]
  },
  {
   "cell_type": "code",
   "execution_count": 13,
   "metadata": {},
   "outputs": [],
   "source": [
    "email_domains = [\n",
    "    \"example.com\", \"gmail.com\", \"yahoo.com\", \"hotmail.com\", \"aol.com\",\n",
    "    \"outlook.com\", \"icloud.com\", \"mail.com\", \"zoho.com\", \"protonmail.com\",\n",
    "    \"yandex.com\", \"gmx.com\", \"fastmail.com\", \"hushmail.com\", \"inbox.com\",\n",
    "    \"mail.ru\", \"live.com\", \"msn.com\", \"comcast.net\", \"verizon.net\",\n",
    "    \"att.net\", \"sbcglobal.net\", \"bellsouth.net\", \"charter.net\", \"cox.net\",\n",
    "    \"earthlink.net\", \"juno.com\", \"netzero.net\", \"aim.com\", \"rocketmail.com\",\n",
    "    \"me.com\", \"mac.com\", \"optonline.net\", \"frontier.com\", \"windstream.net\",\n",
    "    \"centurylink.net\", \"embarqmail.com\", \"q.com\", \"roadrunner.com\", \"twc.com\",\n",
    "    \"rr.com\", \"wowway.com\", \"cfl.rr.com\", \"hawaii.rr.com\", \"houston.rr.com\",\n",
    "    \"nyc.rr.com\", \"san.rr.com\", \"satx.rr.com\", \"sc.rr.com\", \"stny.rr.com\",\n",
    "    \"tampabay.rr.com\", \"wi.rr.com\", \"xtra.co.nz\", \"bigpond.com\", \"bigpond.net.au\",\n",
    "    \"optusnet.com.au\", \"internode.on.net\", \"iinet.net.au\", \"tpg.com.au\", \"dodo.com.au\",\n",
    "    \"primus.com.au\", \"westnet.com.au\", \"aapt.net.au\", \"exemail.com.au\", \"ozemail.com.au\",\n",
    "    \"adam.com.au\", \"chariot.net.au\", \"netspace.net.au\", \"aanet.com.au\", \"clubtelco.com\",\n",
    "    \"spin.net.au\", \"tadaust.org.au\", \"unwired.com.au\", \"virginbroadband.com.au\", \"vodafone.com.au\",\n",
    "    \"vividwireless.com.au\", \"y7mail.com\", \"yahoo.com.au\", \"yahoo.co.nz\", \"yahoo.co.uk\",\n",
    "    \"yahoo.ca\", \"yahoo.fr\", \"yahoo.de\", \"yahoo.it\", \"yahoo.es\",\n",
    "    \"yahoo.co.jp\", \"yahoo.com.sg\", \"yahoo.com.hk\", \"yahoo.com.ph\", \"yahoo.com.my\",\n",
    "    \"yahoo.com.br\", \"yahoo.com.mx\", \"yahoo.com.ar\", \"yahoo.com.ve\", \"yahoo.com.co\",\n",
    "    \"yahoo.com.pe\", \"yahoo.com.cl\", \"yahoo.com.uy\", \"yahoo.com.ec\", \"yahoo.com.bo\",\n",
    "    \"example.net\", \"example.org\", \"example.edu\", \"example.gov\", \"example.mil\",\n",
    "    \"example.biz\", \"example.info\", \"example.jobs\", \"example.mobi\", \"example.name\",\n",
    "    \"example.pro\", \"example.tel\", \"example.travel\", \"example.asia\", \"example.cat\",\n",
    "    \"example.coop\", \"example.int\", \"example.museum\", \"example.aero\", \"example.post\",\n",
    "    \"example.xxx\", \"example.ac\", \"example.ad\", \"example.ae\", \"example.af\",\n",
    "    \"example.ag\", \"example.ai\", \"example.al\", \"example.am\", \"example.an\",\n",
    "    \"example.ao\", \"example.aq\", \"example.ar\", \"example.as\", \"example.at\",\n",
    "    \"example.au\", \"example.aw\", \"example.ax\", \"example.az\", \"example.ba\",\n",
    "    \"example.bb\", \"example.bd\", \"example.be\", \"example.bf\", \"example.bg\",\n",
    "    \"example.bh\", \"example.bi\", \"example.bj\", \"example.bl\", \"example.bm\",\n",
    "    \"example.bn\", \"example.bo\", \"example.bq\", \"example.br\", \"example.bs\",\n",
    "    \"example.bt\", \"example.bv\", \"example.bw\", \"example.by\", \"example.bz\",\n",
    "    \"example.ca\", \"example.cc\", \"example.cd\", \"example.cf\", \"example.cg\",\n",
    "    \"example.ch\", \"example.ci\", \"example.ck\", \"example.cl\", \"example.cm\",\n",
    "    \"example.cn\", \"example.co\", \"example.cr\", \"example.cu\", \"example.cv\",\n",
    "    \"example.cw\", \"example.cx\", \"example.cy\", \"example.cz\", \"example.de\",\n",
    "    \"example.dj\", \"example.dk\", \"example.dm\", \"example.do\", \"example.dz\",\n",
    "    \"example.ec\", \"example.ee\", \"example.eg\", \"example.eh\", \"example.er\",\n",
    "    \"example.es\", \"example.et\", \"example.eu\", \"example.fi\", \"example.fj\",\n",
    "    \"example.fk\", \"example.fm\", \"example.fo\", \"example.fr\", \"example.ga\",\n",
    "    \"example.gb\", \"example.gd\", \"example.ge\", \"example.gf\", \"example.gg\",\n",
    "    \"example.gh\", \"example.gi\", \"example.gl\", \"example.gm\", \"example.gn\",\n",
    "    \"example.gp\", \"example.gq\", \"example.gr\", \"example.gs\", \"example.gt\",\n",
    "    \"example.gu\", \"example.gw\", \"example.gy\", \"example.hk\", \"example.hm\",\n",
    "    \"example.hn\", \"example.hr\", \"example.ht\", \"example.hu\", \"example.id\",\n",
    "    \"example.ie\", \"example.il\", \"example.im\", \"example.in\", \"example.io\",\n",
    "    \"example.iq\", \"example.ir\", \"example.is\", \"example.it\", \"example.je\",\n",
    "    \"example.jm\", \"example.jo\", \"example.jp\", \"example.ke\", \"example.kg\",\n",
    "    \"example.kh\", \"example.ki\", \"example.km\", \"example.kn\", \"example.kp\",\n",
    "    \"example.kr\", \"example.kw\", \"example.ky\", \"example.kz\", \"example.la\",\n",
    "    \"example.lb\", \"example.lc\", \"example.li\", \"example.lk\", \"example.lr\",\n",
    "    \"example.ls\", \"example.lt\", \"example.lu\", \"example.lv\", \"example.ly\",\n",
    "    \"example.ma\", \"example.mc\", \"example.md\", \"example.me\", \"example.mf\",\n",
    "    \"example.mg\", \"example.mh\", \"example.mk\", \"example.ml\", \"example.mm\",\n",
    "    \"example.mn\", \"example.mo\", \"example.mp\", \"example.mq\", \"example.mr\",\n",
    "    \"example.ms\", \"example.mt\", \"example.mu\", \"example.mv\", \"example.mw\",\n",
    "    \"example.mx\", \"example.my\", \"example.mz\", \"example.na\", \"example.nc\",\n",
    "    \"example.ne\", \"example.nf\", \"example.ng\", \"example.ni\", \"example.nl\",\n",
    "    \"example.no\", \"example.np\", \"example.nr\", \"example.nu\", \"example.nz\",\n",
    "    \"example.om\", \"example.pa\", \"example.pe\", \"example.pf\", \"example.pg\",\n",
    "    \"example.ph\", \"example.pk\", \"example.pl\", \"example.pm\", \"example.pn\",\n",
    "    \"example.pr\", \"example.ps\", \"example.pt\", \"example.pw\", \"example.py\",\n",
    "    \"example.qa\", \"example.re\", \"example.ro\", \"example.rs\", \"example.ru\",\n",
    "    \"example.rw\", \"example.sa\", \"example.sb\", \"example.sc\", \"example.sd\",\n",
    "    \"example.se\", \"example.sg\", \"example.sh\", \"example.si\", \"example.sj\",\n",
    "    \"example.sk\", \"example.sl\", \"example.sm\", \"example.sn\", \"example.so\",\n",
    "    \"example.sr\", \"example.ss\", \"example.st\", \"example.su\", \"example.sv\",\n",
    "    \"example.sy\", \"example.sz\", \"example.tc\", \"example.td\", \"example.tf\",\n",
    "    \"example.tg\", \"example.th\", \"example.tj\", \"example.tk\", \"example.tl\",\n",
    "    \"example.tm\", \"example.tn\", \"example.to\", \"example.tr\", \"example.tt\",\n",
    "    \"example.tv\", \"example.tw\", \"example.tz\", \"example.ua\", \"example.ug\",\n",
    "    \"example.uk\", \"example.us\", \"example.uy\", \"example.uz\", \"example.va\",\n",
    "    \"example.vc\", \"example.ve\", \"example.vg\", \"example.vi\", \"example.vn\",\n",
    "    \"example.vu\", \"example.wf\", \"example.ws\", \"example.ye\", \"example.yt\",\n",
    "    \"example.za\", \"example.zm\", \"example.zw\", \"example.academy\", \"example.accountant\",\n",
    "    \"example.accountants\", \"example.actor\", \"example.adult\", \"example.aero\",\n",
    "    \"example.agency\", \"example.airforce\", \"example.apartments\", \"example.army\",\n",
    "    \"example.art\", \"example.associates\", \"example.attorney\", \"example.auction\",\n",
    "    \"example.audio\", \"example.auto\", \"example.autos\", \"example.band\",\n",
    "    \"example.bar\", \"example.bargains\", \"example.basketball\", \"example.beer\",\n",
    "    \"example.best\", \"example.bet\", \"example.bike\", \"example.bingo\",\n",
    "    \"example.bio\", \"example.black\", \"example.blackfriday\", \"example.blog\",\n",
    "    \"example.blue\", \"example.boo\", \"example.boutique\", \"example.box\",\n",
    "    \"example.builders\", \"example.business\", \"example.buzz\", \"example.cab\",\n",
    "    \"example.cafe\", \"example.cam\", \"example.camera\", \"example.camp\",\n",
    "    \"example.capital\", \"example.cards\", \"example.care\", \"example.career\",\n",
    "    \"example.careers\", \"example.cars\", \"example.casa\", \"example.cash\",\n",
    "    \"example.casino\", \"example.catering\", \"example.center\", \"example.ceo\",\n",
    "    \"example.chat\", \"example.cheap\", \"example.church\", \"example.city\",\n",
    "    \"example.claims\", \"example.cleaning\", \"example.click\", \"example.clinic\",\n",
    "    \"example.clothing\", \"example.cloud\", \"example.club\", \"example.coach\",\n",
    "    \"example.codes\", \"example.coffee\", \"example.college\", \"example.community\",\n",
    "    \"example.company\", \"example.computer\", \"example.condos\", \"example.construction\",\n",
    "    \"example.consulting\", \"example.contractors\", \"example.cooking\", \"example.cool\",\n",
    "    \"example.coop\", \"example.country\", \"example.coupons\", \"example.credit\",\n",
    "    \"example.creditcard\", \"example.cricket\", \"example.cruises\", \"example.dance\",\n",
    "    \"example.date\", \"example.dating\", \"example.deals\", \"example.degree\",\n",
    "    \"example.delivery\", \"example.democrat\", \"example.dental\", \"example.dentist\",\n",
    "    \"example.desi\", \"example.design\", \"example.diamonds\", \"example.diet\",\n",
    "    \"example.digital\", \"example.direct\", \"example.directory\", \"example.discount\",\n",
    "    \"example.dog\", \"example.domains\", \"example.download\", \"example.earth\",\n",
    "    \"example.education\", \"example.email\", \"example.energy\", \"example.engineer\",\n",
    "    \"example.engineering\", \"example.enterprises\", \"example.equipment\", \"example.estate\",\n",
    "    \"example.events\", \"example.exchange\", \"example.expert\", \"example.exposed\",\n",
    "    \"example.express\", \"example.fail\", \"example.faith\", \"example.family\",\n",
    "    \"example.fans\", \"example.farm\", \"example.fashion\", \"example.film\",\n",
    "    \"example.finance\", \"example.financial\", \"example.fish\", \"example.fishing\",\n",
    "    \"example.fitness\", \"example.flights\", \"example.florist\", \"example.flowers\",\n",
    "    \"example.fund\", \"example.furniture\", \"example.futbol\", \"example.fyi\",\n",
    "    \"example.gallery\", \"example.games\", \"example.garden\", \"example.gay\",\n",
    "    \"example.gifts\", \"example.gives\", \"example.glass\", \"example.global\",\n",
    "    \"example.gold\", \"example.golf\", \"example.graphics\", \"example.green\",\n",
    "    \"example.gripe\", \"example.group\", \"example.guide\", \"example.guitars\",\n",
    "    \"example.guru\", \"example.hair\", \"example.holiday\", \"example.homes\",\n",
    "    \"example.horse\", \"example.host\", \"example.house\", \"example.immo\",\n",
    "    \"example.immobilien\", \"example.industries\", \"example.info\", \"example.ink\",\n",
    "    \"example.institute\", \"example.insure\", \"example.international\", \"example.investments\",\n",
    "    \"example.jewelry\", \"example.jobs\", \"example.kaufen\", \"example.kim\",\n",
    "    \"example.kitchen\", \"example.land\", \"example.lawyer\", \"example.lease\",\n",
    "    \"example.legal\", \"example.lgbt\", \"example.life\", \"example.lighting\",\n",
    "    \"example.limited\", \"example.limo\", \"example.link\", \"example.live\",\n",
    "    \"example.loan\", \"example.loans\", \"example.love\", \"example.ltd\",\n",
    "    \"example.luxury\", \"example.maison\", \"example.management\", \"example.market\",\n",
    "    \"example.marketing\", \"example.mba\", \"example.media\", \"example.melbourne\",\n",
    "    \"example.memorial\", \"example.men\", \"example.menu\", \"example.miami\",\n",
    "    \"example.moda\", \"example.money\", \"example.mortgage\", \"example.movie\",\n",
    "    \"example.navy\", \"example.network\", \"example.news\", \"example.ninja\",\n",
    "    \"example.nyc\", \"example.okinawa\", \"example.one\", \"example.onl\",\n",
    "    \"example.online\", \"example.ooo\", \"example.page\", \"example.paris\",\n",
    "    \"example.partners\", \"example.parts\", \"example.party\", \"example.pet\",\n",
    "    \"example.pharmacy\", \"example.photo\", \"example.photography\", \"example.photos\",\n",
    "    \"example.pics\", \"example.pictures\", \"example.pink\", \"example.pizza\",\n",
    "    \"example.place\", \"example.plumbing\", \"example.plus\", \"example.poker\",\n",
    "    \"example.press\", \"example.productions\", \"example.properties\", \"example.pub\",\n",
    "    \"example.racing\", \"example.realtor\", \"example.recipes\", \"example.red\",\n",
    "    \"example.rehab\", \"example.reise\", \"example.reisen\", \"example.rent\",\n",
    "    \"example.rentals\", \"example.repair\", \"example.report\", \"example.republican\",\n",
    "    \"example.rest\", \"example.restaurant\", \"example.review\", \"example.reviews\",\n",
    "    \"example.rip\", \"example.rocks\", \"example.rodeo\", \"example.run\",\n",
    "    \"example.sale\", \"example.salon\", \"example.sarl\", \"example.school\",\n",
    "    \"example.schule\", \"example.science\", \"example.services\", \"example.sexy\",\n",
    "    \"example.shiksha\", \"example.shoes\", \"example.shop\", \"example.shopping\",\n",
    "    \"example.show\", \"example.singles\", \"example.site\", \"example.ski\",\n",
    "    \"example.soccer\", \"example.social\", \"example.software\", \"example.solar\",\n",
    "    \"example.solutions\", \"example.space\", \"example.sport\", \"example.sports\",\n",
    "    \"example.srl\", \"example.studio\", \"example.style\", \"example.sucks\",\n",
    "    \"example.supplies\", \"example.supply\", \"example.support\", \"example.surf\",\n",
    "    \"example.surgery\", \"example.systems\", \"example.tattoo\", \"example.tax\",\n",
    "    \"example.taxi\", \"example.team\", \"example.tech\", \"example.technology\",\n",
    "    \"example.tennis\", \"example.theater\", \"example.tickets\", \"example.tienda\",\n",
    "    \"example.tips\", \"example.today\", \"example.tools\", \"example.tours\",\n",
    "    \"example.town\", \"example.toys\", \"example.trade\", \"example.training\",\n",
    "    \"example.travel\", \"example.university\", \"example.vacations\", \"example.vegas\",\n",
    "    \"example.ventures\", \"example.vet\", \"example.viajes\", \"example.video\",\n",
    "    \"example.villas\", \"example.vin\", \"example.vip\", \"example.vision\",\n",
    "    \"example.vlaanderen\", \"example.vodka\", \"example.vote\", \"example.voting\",\n",
    "    \"example.voto\", \"example.voyage\", \"example.wales\", \"example.watch\",\n",
    "    \"example.webcam\", \"example.website\", \"example.wedding\", \"example.wine\",\n",
    "    \"example.work\", \"example.works\", \"example.world\", \"example.wtf\",\n",
    "    \"example.xyz\", \"example.yoga\", \"example.zone\", \"example.zuerich\"\n",
    "]\n",
    "\n",
    "# Add '@' prefix to each domain\n",
    "\n",
    "email_domains = ['@' + domain for domain in email_domains]"
   ]
  },
  {
   "cell_type": "markdown",
   "metadata": {},
   "source": [
    "## Random Phone number"
   ]
  },
  {
   "cell_type": "code",
   "execution_count": 94,
   "metadata": {},
   "outputs": [
    {
     "data": {
      "text/plain": [
       "300000"
      ]
     },
     "execution_count": 94,
     "metadata": {},
     "output_type": "execute_result"
    }
   ],
   "source": [
    "import random\n",
    "\n",
    "phone_numbers = np.unique([('0' + str(random.randint(10**9, 10**10-1))) for i in range(10**5*3)])\n",
    "\n",
    "cccd = np.unique([str(random.randint(10**12, 10**13-1)) for i in range(10**5*3)])\n",
    "\n",
    "len(cccd)"
   ]
  },
  {
   "cell_type": "code",
   "execution_count": 95,
   "metadata": {},
   "outputs": [],
   "source": [
    "khach_hang = []\n",
    "tai_khoan_khach_hang = []\n",
    "\n",
    "for i in range(len(phone_numbers)):\n",
    "    \n",
    "    khach_hang.append({\n",
    "        \"MaKH\": i+1,\n",
    "        \"Username\": 'user' + str(i),\n",
    "        \"HoTen\": random.choice(vietnamese_names),\n",
    "        \"Email\": 'user' + str(i) + random.choice(email_domains),\n",
    "        \"SDT\": phone_numbers[i],\n",
    "        \"CCCD\": cccd[i],\n",
    "        \"GioiTinh\": random.choice(['Male', 'Female']),\n",
    "    })\n",
    "\n",
    "    tai_khoan_khach_hang.append({\n",
    "        \"Username\": 'user' + str(i),\n",
    "        \"Password\": '123456',\n",
    "        \"isActive\": random.choice([1, 0]),\n",
    "    })\n",
    "\n",
    "khach_hang = pd.DataFrame(khach_hang)"
   ]
  },
  {
   "cell_type": "code",
   "execution_count": 96,
   "metadata": {},
   "outputs": [],
   "source": [
    "khach_hang.to_csv('KhachHang.csv', index=False)"
   ]
  },
  {
   "cell_type": "code",
   "execution_count": 97,
   "metadata": {},
   "outputs": [],
   "source": [
    "khach_hang_values = []\n",
    "for index, row in khach_hang.iterrows():\n",
    "    value = f\"({row['MaKH']}, N'{row['Username']}', N'{row['HoTen']}', N'{row['Email']}', '{row['SDT']}', '{row['CCCD']}', N'{row['GioiTinh']}')\"\n",
    "    khach_hang_values.append(value)\n",
    "\n",
    "sql_command = f'''\n",
    "DELETE FROM KhachHang \\nGO \\n\n",
    "SET IDENTITY_INSERT KhachHang ON \\n'''\n",
    "\n",
    "sql_command += \";\\n\".join(map(lambda x: f\"INSERT INTO KhachHang (MaKH, Username, HoTen, Email, SDT, CCCD, GioiTinh) VALUES {x}\", khach_hang_values)) + \"; \\n\"\n",
    "\n",
    "with open('Insert_KhachHang.sql', 'w') as f:\n",
    "    f.write(sql_command)"
   ]
  },
  {
   "cell_type": "markdown",
   "metadata": {},
   "source": [
    "# Bộ phận"
   ]
  },
  {
   "cell_type": "code",
   "execution_count": 98,
   "metadata": {},
   "outputs": [],
   "source": [
    "BoPhan = [\n",
    "    {\n",
    "        \"MaBP\": 1,\n",
    "        \"TenBoPhan\": \"Quản lý\",\n",
    "        \"Luong\": 20000000,\n",
    "    },\n",
    "    {\n",
    "        \"MaBP\": 2,\n",
    "        \"TenBoPhan\": \"Phục vụ\",\n",
    "        \"Luong\": 10000000,\n",
    "    },\n",
    "    {\n",
    "        \"MaBP\": 3,\n",
    "        \"TenBoPhan\": \"Lễ tân\",\n",
    "        \"Luong\": 8000000,\n",
    "    },\n",
    "    {\n",
    "        \"MaBP\": 4,\n",
    "        \"TenBoPhan\": \"Bếp\",\n",
    "        \"Luong\": 15000000,\n",
    "    },\n",
    "    {\n",
    "        \"MaBP\": 5,\n",
    "        \"TenBoPhan\": \"Thu ngân\",\n",
    "        \"Luong\": 12000000,\n",
    "    }\n",
    "]\n",
    "BoPhan = pd.DataFrame(BoPhan)"
   ]
  },
  {
   "cell_type": "code",
   "execution_count": 99,
   "metadata": {},
   "outputs": [],
   "source": [
    "BoPhan.to_csv('BoPhan.csv', index=False)"
   ]
  },
  {
   "cell_type": "code",
   "execution_count": 100,
   "metadata": {},
   "outputs": [],
   "source": [
    "BoPhan_values = []\n",
    "for index, row in BoPhan.iterrows():\n",
    "    value = f\"({row['MaBP']}, N'{row['TenBoPhan']}', {row['Luong']})\"\n",
    "    BoPhan_values.append(value)\n",
    "\n",
    "sql_command = f'''\n",
    "DELETE FROM BoPhan \\nGO \\n\n",
    "SET IDENTITY_INSERT BoPhan ON \\n '''\n",
    "\n",
    "sql_command += \";\\n\".join(map(lambda x: f\"INSERT INTO BoPhan (MaBP, TenBoPhan, Luong) VALUES {x}\", BoPhan_values)) + \"; \\n\"\n",
    "\n",
    "with open('Insert_BoPhan.sql', 'w') as f:\n",
    "    f.write(sql_command)"
   ]
  },
  {
   "cell_type": "markdown",
   "metadata": {},
   "source": [
    "# Nhân viên"
   ]
  },
  {
   "cell_type": "code",
   "execution_count": 76,
   "metadata": {},
   "outputs": [],
   "source": [
    "from datetime import datetime, timedelta\n",
    "\n",
    "ChiNhanh = pd.read_csv('ChiNhanh.csv')\n",
    "\n",
    "birthDay = {\n",
    "    \"start\": datetime.strptime('1/1/1980', \"%d/%m/%Y\"),\n",
    "    \"end\": datetime.strptime('1/1/2006', \"%d/%m/%Y\")\n",
    "}\n",
    "\n",
    "workingDate = {\n",
    "    \"start\": datetime.strptime('1/1/2010', \"%d/%m/%Y\"),\n",
    "    \"end\": datetime.strptime('31/10/2024', \"%d/%m/%Y\")\n",
    "}\n",
    "\n",
    "def randomDate(scope):\n",
    "    start = scope[\"start\"]\n",
    "    end = scope[\"end\"]\n",
    "    delta = end - start\n",
    "    int_delta = delta.days\n",
    "    random_day = random.randint(0, int_delta)\n",
    "    return (start + timedelta(days=random_day)).date().strftime(\"%d-%m-%Y\")\n",
    "\n",
    "def createADateLaterThan(date: str):\n",
    "    return (datetime.strptime(date, \"%d-%m-%Y\") + timedelta(days=random.randint(1, 365))).date().strftime(\"%d-%m-%Y\")\n",
    "\n",
    "# Tạo các nhân viên đang làm việc hiện tại\n",
    "\n",
    "def createNV(MaNV, HoTen, NgaySinh, NgayVaoLam, NgayNghiViec, Username, MaBP, CN_HienTai):\n",
    "    newNV = {\n",
    "        \"MaNV\": MaNV,\n",
    "        \"HoTen\": HoTen,\n",
    "        \"NgaySinh\": NgaySinh,\n",
    "        \"NgayVaoLam\": NgayVaoLam,\n",
    "        \"NgayNghiViec\": NgayNghiViec,\n",
    "        \"Username\": Username,\n",
    "        \"MaBP\": MaBP,\n",
    "        \"CN_HienTai\": CN_HienTai\n",
    "    }\n",
    "    \n",
    "    newTK = {\n",
    "        \"Username\": Username,\n",
    "        \"Password\":\"123456\",\n",
    "        \"isActive\": 1\n",
    "    }\n",
    "    return { \"nhanvien\": newNV, \"taikhoan\": newTK }\n",
    "\n"
   ]
  },
  {
   "cell_type": "code",
   "execution_count": 102,
   "metadata": {},
   "outputs": [],
   "source": [
    "countNV = 0\n",
    "tai_khoan_nhan_vien = []\n",
    "DaNghiViec = []\n",
    "DangLamViec = []\n",
    "EmpPerRole = [\n",
    "    {\n",
    "        \"role\": 1,\n",
    "        \"count\": 1\n",
    "    },\n",
    "    {\n",
    "        \"role\": 2,\n",
    "        \"count\": 10\n",
    "    },\n",
    "    {\n",
    "        \"role\": 3,\n",
    "        \"count\": 2\n",
    "    },\n",
    "    {\n",
    "        \"role\": 4,\n",
    "        \"count\": 8\n",
    "    },\n",
    "    {\n",
    "        \"role\": 5,\n",
    "        \"count\": 2\n",
    "    }\n",
    "]"
   ]
  },
  {
   "cell_type": "code",
   "execution_count": 103,
   "metadata": {},
   "outputs": [],
   "source": [
    "# Nhân viên đã nghỉ việc\n",
    "for i in range(1000):\n",
    "    countNV+=1\n",
    "    NgaySinh = randomDate(birthDay)\n",
    "    NgayVaoLam = randomDate(workingDate)\n",
    "    NgayNghiViec = createADateLaterThan(NgayVaoLam)\n",
    "    \n",
    "    NhanVien = createNV(countNV, random.choice(vietnamese_names), \\\n",
    "             NgaySinh, \\\n",
    "             NgayVaoLam, \\\n",
    "             NgayNghiViec, \\\n",
    "             'employee' + str(countNV), random.choice(range(1, 7, 1)), random.choice(ChiNhanh['MaCN']))\n",
    "    \n",
    "    DaNghiViec.append(NhanVien['nhanvien'])\n",
    "    tai_khoan_nhan_vien.append(NhanVien['taikhoan'])\n",
    " "
   ]
  },
  {
   "cell_type": "code",
   "execution_count": 105,
   "metadata": {},
   "outputs": [],
   "source": [
    "# Nhân viên đang làm việc (240)\n",
    "for i in range(len(ChiNhanh)):\n",
    "    for role in EmpPerRole:\n",
    "        for j in range(role[\"count\"]):\n",
    "            countNV+=1\n",
    "            NgaySinh = randomDate(birthDay)\n",
    "            NgayVaoLam = randomDate(workingDate)\n",
    "            NhanVien = createNV(countNV, random.choice(vietnamese_names), \\\n",
    "                 NgaySinh, \\\n",
    "                 NgayVaoLam, \\\n",
    "                 'NULL', \\\n",
    "                 'employee' + str(countNV), role[\"role\"], ChiNhanh['MaCN'][i])\n",
    "            DangLamViec.append(NhanVien['nhanvien'])\n",
    "            tai_khoan_nhan_vien.append(NhanVien['taikhoan'])\n",
    "        "
   ]
  },
  {
   "cell_type": "code",
   "execution_count": 106,
   "metadata": {},
   "outputs": [],
   "source": [
    "employees = DangLamViec + DaNghiViec\n",
    "tai_khoan = tai_khoan_nhan_vien + tai_khoan_khach_hang\n",
    "pd.DataFrame(employees).to_csv('NhanVien.csv', index=False)\n",
    "pd.DataFrame(tai_khoan).to_csv('TaiKhoan.csv', index=False)"
   ]
  },
  {
   "cell_type": "code",
   "execution_count": 107,
   "metadata": {},
   "outputs": [],
   "source": [
    "employees = pd.read_csv('NhanVien.csv')\n",
    "tai_khoan = pd.read_csv('TaiKhoan.csv')"
   ]
  },
  {
   "cell_type": "code",
   "execution_count": 112,
   "metadata": {},
   "outputs": [],
   "source": [
    "DangLamViec_values = []\n",
    "\n",
    "for emp in DangLamViec:\n",
    "    value = f\"({emp['MaNV']}, N'{emp['HoTen']}', '{emp['NgaySinh']}', '{emp['NgayVaoLam']}', '{emp['NgayNghiViec']}', N'{emp['Username']}', {emp['MaBP']}, {emp['CN_HienTai']})\"\n",
    "    DangLamViec_values.append(value)\n",
    "\n",
    "sql_command_1 = f'''\n",
    "-- Nhân viên đang làm việc\n",
    "DELETE FROM NhanVien \\nGO \\n\n",
    "SET IDENTITY_INSERT NhanVien ON \\n'''\n",
    "\n",
    "sql_command_1 += \";\\n\".join(map(lambda x: f\"INSERT INTO NhanVien (MaNV, HoTen, NgaySinh, NgayVaoLam, NgayNghiViec, Username, MaBP, CN_HienTai) VALUES {x}\", DangLamViec_values)) + \"; \\n\""
   ]
  },
  {
   "cell_type": "code",
   "execution_count": 113,
   "metadata": {},
   "outputs": [],
   "source": [
    "DaNghiViec_values = []\n",
    "\n",
    "for emp in DaNghiViec:\n",
    "    value = f\"({emp['MaNV']}, N'{emp['HoTen']}', '{emp['NgaySinh']}', '{emp['NgayVaoLam']}', '{emp['NgayNghiViec']}', N'{emp['Username']}', {emp['MaBP']}, {emp['CN_HienTai']})\"\n",
    "    DaNghiViec_values.append(value)\n",
    "\n",
    "sql_command_2 = f'''\n",
    "-- Nhân viên đã nghỉ việc\n",
    "SET IDENTITY_INSERT NhanVien ON \\n'''\n",
    "\n",
    "sql_command_2 += \";\\n\".join(map(lambda x: f\"INSERT INTO NhanVien (MaNV, HoTen, NgaySinh, NgayVaoLam, NgayNghiViec, Username, MaBP, CN_HienTai) VALUES {x}\", DaNghiViec_values)) + \"; \\n\"\n"
   ]
  },
  {
   "cell_type": "code",
   "execution_count": 114,
   "metadata": {},
   "outputs": [],
   "source": [
    "with open('Insert_NhanVien.sql', 'w') as f:\n",
    "    f.write(sql_command_1+\"\\n\\n\")\n",
    "    f.write(sql_command_2)"
   ]
  },
  {
   "cell_type": "markdown",
   "metadata": {},
   "source": [
    "# Tài Khoản (nhân viên + khách hàng)"
   ]
  },
  {
   "cell_type": "code",
   "execution_count": 115,
   "metadata": {},
   "outputs": [],
   "source": [
    "tai_khoan = pd.DataFrame(tai_khoan)\n",
    "tai_khoan_values = []\n",
    "for index, row in tai_khoan.iterrows():\n",
    "    value = f\"(N'{row['Username']}', N'{'123456'}', {row['isActive']})\"\n",
    "    tai_khoan_values.append(value)\n",
    "\n",
    "sql_command = f'''\n",
    "DELETE FROM TaiKhoan \\nGO \\n\n",
    "SET IDENTITY_INSERT TaiKhoan ON \\n '''\n",
    "\n",
    "sql_command += \";\\n\".join(map(lambda x: f\"INSERT INTO TaiKhoan (Username, Password, isActive) VALUES {x}\", tai_khoan_values)) + \"; \\n\"\n",
    "\n",
    "with open('Insert_TaiKhoan.sql', 'w') as f:\n",
    "    f.write(sql_command)"
   ]
  },
  {
   "cell_type": "markdown",
   "metadata": {},
   "source": [
    "# Thẻ khách hàng"
   ]
  },
  {
   "cell_type": "code",
   "execution_count": null,
   "metadata": {},
   "outputs": [],
   "source": [
    "khach_hang = pd.read_csv('KhachHang.csv')\n",
    "mathe = []\n",
    "\n",
    "for i in range(len(khach_hang)*2):\n",
    "    mathe.append(\"KH\"+\"\".join([random.choice(['0', '1', '2', '3', '4', '5', '6', '7', '8', '9']) for _ in range(8)]))\n",
    "    \n",
    "mathe = pd.DataFrame(mathe, columns=['MaThe'], dtype='str')\n",
    "mathe.drop_duplicates(inplace=True)\n",
    "\n",
    "# mathe['MaThe'] = mathe['MaThe'].replace('x', '')\n",
    "\n",
    "mathe.to_csv('MaThe.csv', index=False)\n",
    "\n"
   ]
  },
  {
   "cell_type": "code",
   "execution_count": 149,
   "metadata": {},
   "outputs": [],
   "source": [
    "from datetime import datetime, timedelta\n",
    "\n",
    "ChiNhanh = pd.read_csv('ChiNhanh.csv')\n",
    "employees = []\n",
    "countNV = 0\n",
    "\n",
    "birthDay = {\n",
    "    \"start\": datetime.strptime('1/1/1980', \"%d/%m/%Y\"),\n",
    "    \"end\": datetime.strptime('1/1/2006', \"%d/%m/%Y\")\n",
    "}\n",
    "\n",
    "workingDate = {\n",
    "    \"start\": datetime.strptime('1/1/2010', \"%d/%m/%Y\"),\n",
    "    \"end\": datetime.strptime('31/10/2024', \"%d/%m/%Y\")\n",
    "}\n",
    "\n",
    "def randomDate(scope):\n",
    "    start = scope[\"start\"]\n",
    "    end = scope[\"end\"]\n",
    "    delta = end - start\n",
    "    int_delta = delta.days\n",
    "    random_day = random.randint(0, int_delta)\n",
    "    return (start + timedelta(days=random_day)).date().strftime(\"%d-%m-%Y\")\n",
    "\n",
    "def createADateLaterThan(date):\n",
    "    return (date + timedelta(days=random.randint(1, 365))).date().strftime(\"%d-%m-%Y\")"
   ]
  },
  {
   "cell_type": "code",
   "execution_count": 151,
   "metadata": {},
   "outputs": [],
   "source": [
    "#! NHỚ CHẠY LẠI ĐOẠN NÀY\n",
    "mathe = pd.read_csv(\"MaThe.csv\")   \n",
    "the_thanh_vien = []\n",
    "hangmuc = [{\"LoaiThe\": \"Normal\", \"Discount\": 5}, {\"LoaiThe\": \"Silver\", \"Discount\": 10}, {\"LoaiThe\": \"Gold\", \"Discount\": 15}]\n",
    "employees = pd.read_csv('NhanVien.csv')\n"
   ]
  },
  {
   "cell_type": "code",
   "execution_count": 155,
   "metadata": {},
   "outputs": [],
   "source": [
    "for i in range(len(khach_hang)):\n",
    "    random_hangmuc = random.choice(hangmuc)\n",
    "    NhanVien = employees.iloc[random.randint(0, len(employees)-1)]\n",
    "    scope = {\"start\": datetime.strptime(NhanVien['NgayVaoLam'], \"%d-%m-%Y\"), \\\n",
    "             \"end\": (datetime.strptime(NhanVien['NgayNghiViec'], \"%d-%m-%Y\")\n",
    "             if pd.isnull(NhanVien[\"NgayNghiViec\"]) == False else datetime.strptime('31-10-2024', \"%d-%m-%Y\")) }\n",
    "    random_date = randomDate(scope)\n",
    "    the_thanh_vien.append({\n",
    "        \"MaThe\": mathe['MaThe'][i],\n",
    "        \"MaKH\": khach_hang['MaKH'][i],\n",
    "        \"LoaiThe\": random_hangmuc['LoaiThe'],\n",
    "        \"Discount\": random_hangmuc['Discount'],\n",
    "        \"NgayCap\": random_date,\n",
    "        \"NhanVienCap\": NhanVien['MaNV'],\n",
    "        \"isActive\": 1\n",
    "    })\n"
   ]
  },
  {
   "cell_type": "code",
   "execution_count": 161,
   "metadata": {},
   "outputs": [],
   "source": [
    "the_thanh_vien = pd.DataFrame(the_thanh_vien)\n",
    "the_thanh_vien.columns = ['MaThe', 'MaKH', 'LoaiThe', 'Discount', 'NgayLap', 'MaNV', 'isActive']\n",
    "the_thanh_vien.to_csv('TheThanhVien.csv', index=False)"
   ]
  },
  {
   "cell_type": "code",
   "execution_count": 162,
   "metadata": {},
   "outputs": [],
   "source": [
    "sql_command = f'''\n",
    "DELETE FROM TheThanhVien \\nGO \\n\n",
    "SET IDENTITY_INSERT TheThanhVien ON \\n '''\n",
    "\n",
    "the_thanh_vien_values = []\n",
    "for index, row in the_thanh_vien.iterrows():\n",
    "    value = f\"({row['MaThe']}, '{row['NgayLap']}', N'{row['LoaiThe']}', {row['MaNV']}, {row['isActive']}, {row['MaKH']})\"\n",
    "    the_thanh_vien_values.append(value)\n",
    "\n",
    "sql_command += \";\\n\".join(map(lambda x: f\"INSERT INTO TheThanhVien (MaThe, NgayLap, LoaiThe, MaNV, isActive, MaKH) VALUES {x}\", the_thanh_vien_values)) + \"; \\n\"\n",
    "\n",
    "with open('Insert_TheThanhVien.sql', 'w') as f:\n",
    "    f.write(sql_command)"
   ]
  },
  {
   "cell_type": "code",
   "execution_count": 28,
   "metadata": {},
   "outputs": [],
   "source": [
    "the_thanh_vien = pd.read_csv('TheThanhVien.csv')"
   ]
  },
  {
   "cell_type": "markdown",
   "metadata": {},
   "source": [
    "# Món ăn"
   ]
  },
  {
   "cell_type": "code",
   "execution_count": 22,
   "metadata": {},
   "outputs": [
    {
     "data": {
      "text/html": [
       "<div>\n",
       "<style scoped>\n",
       "    .dataframe tbody tr th:only-of-type {\n",
       "        vertical-align: middle;\n",
       "    }\n",
       "\n",
       "    .dataframe tbody tr th {\n",
       "        vertical-align: top;\n",
       "    }\n",
       "\n",
       "    .dataframe thead th {\n",
       "        text-align: right;\n",
       "    }\n",
       "</style>\n",
       "<table border=\"1\" class=\"dataframe\">\n",
       "  <thead>\n",
       "    <tr style=\"text-align: right;\">\n",
       "      <th></th>\n",
       "      <th>id</th>\n",
       "      <th>name</th>\n",
       "      <th>category</th>\n",
       "      <th>price</th>\n",
       "      <th>image</th>\n",
       "    </tr>\n",
       "  </thead>\n",
       "  <tbody>\n",
       "    <tr>\n",
       "      <th>0</th>\n",
       "      <td>1</td>\n",
       "      <td>AKAGAI SASHIMI</td>\n",
       "      <td>Sashimi</td>\n",
       "      <td>179000</td>\n",
       "      <td>https://sushiworld.com.vn/wp-content/uploads/2...</td>\n",
       "    </tr>\n",
       "    <tr>\n",
       "      <th>1</th>\n",
       "      <td>2</td>\n",
       "      <td>AKAGAI SUSHI</td>\n",
       "      <td>Sushi</td>\n",
       "      <td>89000</td>\n",
       "      <td>https://sushiworld.com.vn/wp-content/uploads/2...</td>\n",
       "    </tr>\n",
       "    <tr>\n",
       "      <th>2</th>\n",
       "      <td>3</td>\n",
       "      <td>AYU SHIO YAKI</td>\n",
       "      <td>Yakimono</td>\n",
       "      <td>129000</td>\n",
       "      <td>https://sushiworld.com.vn/wp-content/uploads/2...</td>\n",
       "    </tr>\n",
       "    <tr>\n",
       "      <th>3</th>\n",
       "      <td>4</td>\n",
       "      <td>BEEF SALAD</td>\n",
       "      <td>Salad</td>\n",
       "      <td>149000</td>\n",
       "      <td>https://sushiworld.com.vn/wp-content/uploads/2...</td>\n",
       "    </tr>\n",
       "    <tr>\n",
       "      <th>4</th>\n",
       "      <td>5</td>\n",
       "      <td>BEEF STEAK SET</td>\n",
       "      <td>Set lunch</td>\n",
       "      <td>209000</td>\n",
       "      <td>https://sushiworld.com.vn/wp-content/uploads/2...</td>\n",
       "    </tr>\n",
       "    <tr>\n",
       "      <th>...</th>\n",
       "      <td>...</td>\n",
       "      <td>...</td>\n",
       "      <td>...</td>\n",
       "      <td>...</td>\n",
       "      <td>...</td>\n",
       "    </tr>\n",
       "    <tr>\n",
       "      <th>169</th>\n",
       "      <td>170</td>\n",
       "      <td>UNAJYU SET</td>\n",
       "      <td>Set lunch</td>\n",
       "      <td>369000</td>\n",
       "      <td>https://sushiworld.com.vn/wp-content/uploads/2...</td>\n",
       "    </tr>\n",
       "    <tr>\n",
       "      <th>170</th>\n",
       "      <td>171</td>\n",
       "      <td>UNI SASHIMI</td>\n",
       "      <td>Sashimi</td>\n",
       "      <td>229000</td>\n",
       "      <td>https://sushiworld.com.vn/wp-content/uploads/2...</td>\n",
       "    </tr>\n",
       "    <tr>\n",
       "      <th>171</th>\n",
       "      <td>172</td>\n",
       "      <td>UNI SUSHI</td>\n",
       "      <td>Sushi</td>\n",
       "      <td>139000</td>\n",
       "      <td>https://sushiworld.com.vn/wp-content/uploads/2...</td>\n",
       "    </tr>\n",
       "    <tr>\n",
       "      <th>172</th>\n",
       "      <td>173</td>\n",
       "      <td>VEGETARIAN MUSHROOMS &amp; AVOCADO CAKE</td>\n",
       "      <td>Sushi Cake</td>\n",
       "      <td>199000</td>\n",
       "      <td>https://sushiworld.com.vn/wp-content/uploads/2...</td>\n",
       "    </tr>\n",
       "    <tr>\n",
       "      <th>173</th>\n",
       "      <td>174</td>\n",
       "      <td>YASAI TEMPURA</td>\n",
       "      <td>Tempura</td>\n",
       "      <td>119000</td>\n",
       "      <td>https://sushiworld.com.vn/wp-content/uploads/2...</td>\n",
       "    </tr>\n",
       "  </tbody>\n",
       "</table>\n",
       "<p>174 rows × 5 columns</p>\n",
       "</div>"
      ],
      "text/plain": [
       "      id                                 name    category   price  \\\n",
       "0      1                       AKAGAI SASHIMI     Sashimi  179000   \n",
       "1      2                         AKAGAI SUSHI       Sushi   89000   \n",
       "2      3                        AYU SHIO YAKI    Yakimono  129000   \n",
       "3      4                           BEEF SALAD       Salad  149000   \n",
       "4      5                       BEEF STEAK SET   Set lunch  209000   \n",
       "..   ...                                  ...         ...     ...   \n",
       "169  170                           UNAJYU SET   Set lunch  369000   \n",
       "170  171                          UNI SASHIMI     Sashimi  229000   \n",
       "171  172                            UNI SUSHI       Sushi  139000   \n",
       "172  173  VEGETARIAN MUSHROOMS & AVOCADO CAKE  Sushi Cake  199000   \n",
       "173  174                        YASAI TEMPURA     Tempura  119000   \n",
       "\n",
       "                                                 image  \n",
       "0    https://sushiworld.com.vn/wp-content/uploads/2...  \n",
       "1    https://sushiworld.com.vn/wp-content/uploads/2...  \n",
       "2    https://sushiworld.com.vn/wp-content/uploads/2...  \n",
       "3    https://sushiworld.com.vn/wp-content/uploads/2...  \n",
       "4    https://sushiworld.com.vn/wp-content/uploads/2...  \n",
       "..                                                 ...  \n",
       "169  https://sushiworld.com.vn/wp-content/uploads/2...  \n",
       "170  https://sushiworld.com.vn/wp-content/uploads/2...  \n",
       "171  https://sushiworld.com.vn/wp-content/uploads/2...  \n",
       "172  https://sushiworld.com.vn/wp-content/uploads/2...  \n",
       "173  https://sushiworld.com.vn/wp-content/uploads/2...  \n",
       "\n",
       "[174 rows x 5 columns]"
      ]
     },
     "execution_count": 22,
     "metadata": {},
     "output_type": "execute_result"
    }
   ],
   "source": [
    "import json\n",
    "mon_an = pd.DataFrame(json.load(open('sushiworld.json')))\n",
    "\n",
    "mon_an[\"id\"] = mon_an.index + 1\n",
    "mon_an[\"id\"] = mon_an['id'].astype('int')\n",
    "\n",
    "mon_an\n"
   ]
  },
  {
   "cell_type": "code",
   "execution_count": null,
   "metadata": {},
   "outputs": [],
   "source": [
    "mon_an_values = []\n",
    "\n",
    "for index, row in mon_an.iterrows():\n",
    "    value = f\"({int(row['id'])}, \\\"{row['name']}\\\", \\\"{row['category']}\\\", {row['price']}, \\\"{row['image']}\\\")\"\n",
    "    mon_an_values.append(value)\n",
    "    \n",
    "sql_command = f'''\n",
    "DELETE FROM MonAn \\nGO \\n\n",
    "INSERT INTO MonAn (MaMon, TenMon, MaLoai, Gia, HinhAnh) VALUES \\n {', \\n'.join(mon_an_values)}; \\n'''\n",
    "\n",
    "with open('Insert_MonAn.sql', 'w') as f:\n",
    "    f.write(sql_command)"
   ]
  },
  {
   "cell_type": "markdown",
   "metadata": {},
   "source": [
    "# Phục vụ món theo chi nhánh"
   ]
  },
  {
   "cell_type": "code",
   "execution_count": 6,
   "metadata": {},
   "outputs": [],
   "source": [
    "mon_an = pd.DataFrame(json.load(open('sushiworld.json')))\n",
    "\n",
    "\n",
    "for i in range(len(mon_an)):\n",
    "    mon_an.at[i, 'id'] = i+1\n",
    "    \n",
    "mon_an.columns = ['MaMon', 'TenMon', 'MaLoai', 'Gia', 'HinhAnh']\n",
    "\n",
    "mon_an[\"GiaoHang\"] = 1 \n",
    "    \n",
    "mon_an.to_csv('MonAn.csv', index=False)"
   ]
  },
  {
   "cell_type": "code",
   "execution_count": 12,
   "metadata": {},
   "outputs": [],
   "source": [
    "mamon = [1, 2, 3, 4]\n",
    "\n",
    "mon_an = pd.read_csv('MonAn.csv')\n",
    "\n",
    "all_served = mon_an[~mon_an['MaMon'].isin(mamon)]\n",
    "\n",
    "\n",
    "phucvu = []\n",
    "\n",
    "for i in range(15):\n",
    "    phucvu.append({\n",
    "        \"MaTD\": i+1,\n",
    "        \"MaMon\": random.choice(mamon),\n",
    "        \"isServed\": random.randint(0, 1),\n",
    "    })\n",
    "\n",
    "for j in range(len(all_served)):\n",
    "    for i in range(15):\n",
    "        phucvu.append({\n",
    "        \"MaTD\": i+1,\n",
    "        \"MaMon\": j+5,\n",
    "        \"isServed\": 1,\n",
    "        })\n",
    "        \n",
    "phucvu = pd.DataFrame(phucvu)\n",
    "phucvu.to_csv('PhucVu.csv', index=False)\n",
    "\n",
    "phucvu_values = []\n",
    "\n",
    "for index, row in phucvu.iterrows():\n",
    "    value = f\"({row['MaTD']}, {row['MaMon']}, {row['isServed']})\"\n",
    "    phucvu_values.append(value)\n",
    "    \n",
    "sql_command = f'''\n",
    "DELETE FROM PhucVu \\nGO \\n\n",
    "SET IDENTITY_INSERT PhucVu ON \\n\n",
    "INSERT INTO PhucVu (MaTD, MaMon, isServed) VALUES \\n\n",
    "{', \\n'.join(phucvu_values)}; \\n\n",
    "'''\n",
    "\n",
    "with open('Insert_PhucVu.sql', 'w') as f:\n",
    "    f.write(sql_command)"
   ]
  },
  {
   "cell_type": "code",
   "execution_count": 13,
   "metadata": {},
   "outputs": [
    {
     "data": {
      "text/html": [
       "<div>\n",
       "<style scoped>\n",
       "    .dataframe tbody tr th:only-of-type {\n",
       "        vertical-align: middle;\n",
       "    }\n",
       "\n",
       "    .dataframe tbody tr th {\n",
       "        vertical-align: top;\n",
       "    }\n",
       "\n",
       "    .dataframe thead th {\n",
       "        text-align: right;\n",
       "    }\n",
       "</style>\n",
       "<table border=\"1\" class=\"dataframe\">\n",
       "  <thead>\n",
       "    <tr style=\"text-align: right;\">\n",
       "      <th></th>\n",
       "      <th>MaMon</th>\n",
       "      <th>TenMon</th>\n",
       "      <th>MaLoai</th>\n",
       "      <th>Gia</th>\n",
       "      <th>HinhAnh</th>\n",
       "      <th>GiaoHang</th>\n",
       "    </tr>\n",
       "  </thead>\n",
       "  <tbody>\n",
       "    <tr>\n",
       "      <th>4</th>\n",
       "      <td>5</td>\n",
       "      <td>BEEF STEAK SET</td>\n",
       "      <td>Set lunch</td>\n",
       "      <td>209000.0</td>\n",
       "      <td>https://sushiworld.com.vn/wp-content/uploads/2...</td>\n",
       "      <td>1</td>\n",
       "    </tr>\n",
       "    <tr>\n",
       "      <th>5</th>\n",
       "      <td>6</td>\n",
       "      <td>BURI KAMA SHIO YAKI</td>\n",
       "      <td>Yakimono</td>\n",
       "      <td>269000.0</td>\n",
       "      <td>https://sushiworld.com.vn/wp-content/uploads/2...</td>\n",
       "      <td>1</td>\n",
       "    </tr>\n",
       "    <tr>\n",
       "      <th>6</th>\n",
       "      <td>7</td>\n",
       "      <td>CALIFORNIA MAKI</td>\n",
       "      <td>Maki</td>\n",
       "      <td>119000.0</td>\n",
       "      <td>https://sushiworld.com.vn/wp-content/uploads/2...</td>\n",
       "      <td>1</td>\n",
       "    </tr>\n",
       "    <tr>\n",
       "      <th>7</th>\n",
       "      <td>8</td>\n",
       "      <td>CHIRASHI DON SET</td>\n",
       "      <td>Set lunch</td>\n",
       "      <td>169000.0</td>\n",
       "      <td>https://sushiworld.com.vn/wp-content/uploads/2...</td>\n",
       "      <td>1</td>\n",
       "    </tr>\n",
       "    <tr>\n",
       "      <th>8</th>\n",
       "      <td>9</td>\n",
       "      <td>CHUBUNE SASHIMI</td>\n",
       "      <td>Sashimi</td>\n",
       "      <td>1000.0</td>\n",
       "      <td>https://sushiworld.com.vn/wp-content/uploads/2...</td>\n",
       "      <td>1</td>\n",
       "    </tr>\n",
       "    <tr>\n",
       "      <th>...</th>\n",
       "      <td>...</td>\n",
       "      <td>...</td>\n",
       "      <td>...</td>\n",
       "      <td>...</td>\n",
       "      <td>...</td>\n",
       "      <td>...</td>\n",
       "    </tr>\n",
       "    <tr>\n",
       "      <th>169</th>\n",
       "      <td>170</td>\n",
       "      <td>UNAJYU SET</td>\n",
       "      <td>Set lunch</td>\n",
       "      <td>369000.0</td>\n",
       "      <td>https://sushiworld.com.vn/wp-content/uploads/2...</td>\n",
       "      <td>1</td>\n",
       "    </tr>\n",
       "    <tr>\n",
       "      <th>170</th>\n",
       "      <td>171</td>\n",
       "      <td>UNI SASHIMI</td>\n",
       "      <td>Sashimi</td>\n",
       "      <td>229000.0</td>\n",
       "      <td>https://sushiworld.com.vn/wp-content/uploads/2...</td>\n",
       "      <td>1</td>\n",
       "    </tr>\n",
       "    <tr>\n",
       "      <th>171</th>\n",
       "      <td>172</td>\n",
       "      <td>UNI SUSHI</td>\n",
       "      <td>Sushi</td>\n",
       "      <td>139000.0</td>\n",
       "      <td>https://sushiworld.com.vn/wp-content/uploads/2...</td>\n",
       "      <td>1</td>\n",
       "    </tr>\n",
       "    <tr>\n",
       "      <th>172</th>\n",
       "      <td>173</td>\n",
       "      <td>VEGETARIAN MUSHROOMS &amp; AVOCADO CAKE</td>\n",
       "      <td>Sushi Cake</td>\n",
       "      <td>199000.0</td>\n",
       "      <td>https://sushiworld.com.vn/wp-content/uploads/2...</td>\n",
       "      <td>1</td>\n",
       "    </tr>\n",
       "    <tr>\n",
       "      <th>173</th>\n",
       "      <td>174</td>\n",
       "      <td>YASAI TEMPURA</td>\n",
       "      <td>Tempura</td>\n",
       "      <td>119000.0</td>\n",
       "      <td>https://sushiworld.com.vn/wp-content/uploads/2...</td>\n",
       "      <td>1</td>\n",
       "    </tr>\n",
       "  </tbody>\n",
       "</table>\n",
       "<p>170 rows × 6 columns</p>\n",
       "</div>"
      ],
      "text/plain": [
       "     MaMon                               TenMon      MaLoai       Gia  \\\n",
       "4        5                       BEEF STEAK SET   Set lunch  209000.0   \n",
       "5        6                  BURI KAMA SHIO YAKI    Yakimono  269000.0   \n",
       "6        7                      CALIFORNIA MAKI        Maki  119000.0   \n",
       "7        8                     CHIRASHI DON SET   Set lunch  169000.0   \n",
       "8        9                      CHUBUNE SASHIMI     Sashimi    1000.0   \n",
       "..     ...                                  ...         ...       ...   \n",
       "169    170                           UNAJYU SET   Set lunch  369000.0   \n",
       "170    171                          UNI SASHIMI     Sashimi  229000.0   \n",
       "171    172                            UNI SUSHI       Sushi  139000.0   \n",
       "172    173  VEGETARIAN MUSHROOMS & AVOCADO CAKE  Sushi Cake  199000.0   \n",
       "173    174                        YASAI TEMPURA     Tempura  119000.0   \n",
       "\n",
       "                                               HinhAnh  GiaoHang  \n",
       "4    https://sushiworld.com.vn/wp-content/uploads/2...         1  \n",
       "5    https://sushiworld.com.vn/wp-content/uploads/2...         1  \n",
       "6    https://sushiworld.com.vn/wp-content/uploads/2...         1  \n",
       "7    https://sushiworld.com.vn/wp-content/uploads/2...         1  \n",
       "8    https://sushiworld.com.vn/wp-content/uploads/2...         1  \n",
       "..                                                 ...       ...  \n",
       "169  https://sushiworld.com.vn/wp-content/uploads/2...         1  \n",
       "170  https://sushiworld.com.vn/wp-content/uploads/2...         1  \n",
       "171  https://sushiworld.com.vn/wp-content/uploads/2...         1  \n",
       "172  https://sushiworld.com.vn/wp-content/uploads/2...         1  \n",
       "173  https://sushiworld.com.vn/wp-content/uploads/2...         1  \n",
       "\n",
       "[170 rows x 6 columns]"
      ]
     },
     "execution_count": 13,
     "metadata": {},
     "output_type": "execute_result"
    }
   ],
   "source": [
    "all_served"
   ]
  },
  {
   "cell_type": "markdown",
   "metadata": {},
   "source": [
    "# Phiếu Đặt Món"
   ]
  },
  {
   "cell_type": "markdown",
   "metadata": {},
   "source": [
    "#### Điều kiện đặt món:\n",
    "- Trong giờ phục vụ\n",
    "- Món ăn tại chi nhánh đó phải được phục vụ\n",
    "- Nhân viên đặt món phải còn đang làm tại thời điểm đặt món (ngày nghỉ làm sau ngày đặt món)"
   ]
  },
  {
   "cell_type": "code",
   "execution_count": 9,
   "metadata": {},
   "outputs": [],
   "source": [
    "NhanVien = pd.read_csv('NhanVien.csv')\n",
    "KhachHang = pd.read_csv('KhachHang.csv')\n",
    "ChiNhanh = pd.read_csv('ChiNhanh.csv')\n",
    "Ban = pd.read_csv('Ban.csv')\n",
    "MonAn = pd.read_csv('MonAn.csv')\n",
    "PhucVu = pd.read_csv('PhucVu.csv')\n",
    "TheThanhVien = pd.read_csv('TheThanhVien.csv')"
   ]
  },
  {
   "cell_type": "markdown",
   "metadata": {},
   "source": [
    "# Hoá đơn"
   ]
  },
  {
   "cell_type": "code",
   "execution_count": 11,
   "metadata": {},
   "outputs": [],
   "source": [
    "def TaoHoaDon(MaHD, GiamGia, MaThe, NgayLap):\n",
    "    return {\n",
    "        \"MaHD\": MaHD,\n",
    "        \"GiamGia\": GiamGia,\n",
    "        \"TongHoaDon\": 0,\n",
    "        \"MaThe\": MaThe,\n",
    "        \"NgayLap\": NgayLap,\n",
    "        \"isEatIn\": 1,\n",
    "    }"
   ]
  },
  {
   "cell_type": "markdown",
   "metadata": {},
   "source": [
    "# Phiếu Đặt Món"
   ]
  },
  {
   "cell_type": "code",
   "execution_count": 12,
   "metadata": {},
   "outputs": [],
   "source": [
    "def TaoPhieuDatMon(MaHD, MaPhieu, NgayLap, MaBan, MaNV):\n",
    "    return {\n",
    "        \"MaHD\": MaHD,\n",
    "        \"MaPhieu\": MaPhieu,\n",
    "        \"NgayLap\": NgayLap,\n",
    "        \"MaBan\": MaBan,\n",
    "        \"TongTien\": 0,\n",
    "        \"MaNV\": MaNV,\n",
    "    }\n",
    "    "
   ]
  },
  {
   "cell_type": "markdown",
   "metadata": {},
   "source": [
    "# Chọn món"
   ]
  },
  {
   "cell_type": "code",
   "execution_count": 13,
   "metadata": {},
   "outputs": [],
   "source": [
    "def ChonMon(MaPhieu, MaMon, SoLuong):\n",
    "    return {\n",
    "        \"MaPhieu\": MaPhieu,\n",
    "        \"MaMon\": MaMon,\n",
    "        \"SoLuong\": SoLuong,\n",
    "        \"TongTien\": SoLuong*mon_an['Gia'][MaMon-1]\n",
    "    }"
   ]
  },
  {
   "cell_type": "markdown",
   "metadata": {},
   "source": [
    "# Tạo Dữ Liệu"
   ]
  },
  {
   "cell_type": "code",
   "execution_count": 14,
   "metadata": {},
   "outputs": [],
   "source": [
    "import random\n",
    "from datetime import datetime, timedelta\n",
    "\n",
    "workingDate = {\n",
    "    \"start\": datetime.strptime('1/1/2010', \"%d/%m/%Y\"),\n",
    "    \"end\": datetime.strptime('31/10/2024', \"%d/%m/%Y\")\n",
    "}\n",
    "\n",
    "workingHour = {\n",
    "    \"start\": datetime.strptime('9:00', \"%H:%M\"),\n",
    "    \"end\": datetime.strptime('22:00', \"%H:%M\")\n",
    "}\n",
    "\n",
    "def RandomDateTime(scope):\n",
    "    start = scope[\"start\"]\n",
    "    end = scope[\"end\"]\n",
    "    delta = end - start\n",
    "    int_delta = delta.days\n",
    "    random_day = random.randint(0, int_delta)\n",
    "    random_time = workingHour[\"start\"] + timedelta(seconds=random.randint(0, (workingHour[\"end\"] - workingHour[\"start\"]).seconds))\n",
    "    return (start + timedelta(days=random_day)).strftime(\"%d-%m-%Y\") + \" \" + random_time.strftime(\"%H:%M:%S\")\n",
    "\n",
    "def CreateADateLaterThan(date, days):\n",
    "    return (date + timedelta(days)).strftime(\"%d-%m-%Y\")"
   ]
  },
  {
   "cell_type": "code",
   "execution_count": 15,
   "metadata": {},
   "outputs": [],
   "source": [
    "# Precompute necessary data\n",
    "NhanVien_indices = NhanVien.index.to_list()\n",
    "Ban_indices = Ban.index.to_list()\n",
    "TheThanhVien_indices = TheThanhVien.index.to_list()\n",
    "mon_an_indices = MonAn.index.to_list()\n",
    "\n",
    "# Generate random data in bulk\n",
    "MaHDs = np.arange(1, 10**5*3 + 1)\n",
    "MaPhieus = np.arange(1, 10**5*3 + 1)\n",
    "NhanVienDatMons = NhanVien.iloc[np.random.choice(NhanVien_indices, size=10**5*3)]\n",
    "MaNVs = NhanVienDatMons['MaNV'].values\n",
    "NgayNghiViecs = NhanVienDatMons['NgayNghiViec'].fillna('31-10-2024').values\n",
    "NgayVaoLams = NhanVienDatMons['NgayVaoLam'].values\n",
    "NgayLaps = [RandomDateTime({\"start\": datetime.strptime(NgayVaoLams[i], \"%d-%m-%Y\"), \"end\": datetime.strptime(NgayNghiViecs[i], \"%d-%m-%Y\")}) for i in range(10**5*3)]\n",
    "MaBans = Ban.iloc[np.random.choice(Ban_indices, size=10**5*3)]['MaBan'].values\n",
    "KhachHangs = TheThanhVien.iloc[np.random.choice(TheThanhVien_indices, size=10**5*3)]"
   ]
  },
  {
   "cell_type": "code",
   "execution_count": 16,
   "metadata": {},
   "outputs": [],
   "source": [
    "# Create PhieuDatMon and HoaDon\n",
    "phieu_dat_mon_list = pd.DataFrame({\n",
    "    'MaHD': MaHDs,\n",
    "    'MaPhieu': MaPhieus,\n",
    "    'NgayLap': NgayLaps,\n",
    "    'MaBan': MaBans,\n",
    "    'MaNV': MaNVs,\n",
    "    'TongTien': 0\n",
    "})\n",
    "\n",
    "hoa_don_list = pd.DataFrame({\n",
    "    'MaHD': MaHDs,\n",
    "    'GiamGia': KhachHangs['Discount'],\n",
    "    'MaThe': KhachHangs['MaThe'],\n",
    "    'NgayLap': NgayLaps,\n",
    "    'TongHoaDon': 0\n",
    "})\n"
   ]
  },
  {
   "cell_type": "code",
   "execution_count": 17,
   "metadata": {},
   "outputs": [],
   "source": [
    "# Generate ChonMon\n",
    "chon_mon_list = []\n",
    "TongTien_list = np.zeros(len(MaPhieus))\n",
    "\n",
    "# Generate random indices and quantities for all rows at once\n",
    "MonAn_indices = np.random.choice(mon_an_indices, size=(len(MaPhieus), 5))\n",
    "SoLuong_list = np.random.randint(1, 4, size=(len(MaPhieus), 5))\n",
    "Gia_list = MonAn.loc[MonAn_indices.flatten(), 'Gia'].values.reshape(len(MaPhieus), 5)\n",
    "TongTien = np.sum(SoLuong_list * Gia_list, axis=1)\n",
    "\n",
    "# Create ChonMon DataFrame\n",
    "chon_mon = pd.DataFrame({\n",
    "    'MaPhieu': np.repeat(MaPhieus, 5),\n",
    "    'MaMon': MonAn_indices.flatten(),\n",
    "    'SoLuong': SoLuong_list.flatten(),\n",
    "    'TongTien': (SoLuong_list * Gia_list).flatten()\n",
    "})\n",
    "\n",
    "# Update TongTien_list\n",
    "TongTien_list = TongTien\n",
    "\n",
    "# Update phieu_dat_mon_list and hoa_don_list\n",
    "phieu_dat_mon_list['TongTien'] = TongTien_list\n",
    "hoa_don_list['TongHoaDon'] = TongTien_list*(1 - hoa_don_list['GiamGia']/100)\n",
    "\n",
    "# Assign to final variables\n",
    "Phieu_Dat_Mon = phieu_dat_mon_list\n",
    "HoaDon = hoa_don_list\n",
    "Chon_Mon = chon_mon"
   ]
  },
  {
   "cell_type": "code",
   "execution_count": 18,
   "metadata": {},
   "outputs": [],
   "source": [
    "Chon_Mon = pd.DataFrame(chon_mon_list)"
   ]
  },
  {
   "cell_type": "code",
   "execution_count": 18,
   "metadata": {},
   "outputs": [],
   "source": [
    "Chon_Mon.to_csv('ChonMon.csv', index=False)\n",
    "HoaDon.to_csv('HoaDon.csv', index=False)\n",
    "Phieu_Dat_Mon.to_csv('PhieuDatMon.csv', index=False)"
   ]
  },
  {
   "cell_type": "code",
   "execution_count": 19,
   "metadata": {},
   "outputs": [],
   "source": [
    "sql_command = f'''\n",
    "DELETE FROM HoaDon \\nGO \\n\n",
    "SET IDENTITY_INSERT HoaDon ON \\n\n",
    "{'; \\n'.join(map(lambda x: f\"INSERT INTO HoaDon (MaHD, GiamGia, TongHoaDon, MaThe, NgayLap) VALUES ({x['MaHD']}, {x['GiamGia']}, {x['TongHoaDon']}, {x['MaThe']}, '{x['NgayLap']}')\", hoa_don_list.to_dict(orient='records')))}; \\n\n",
    "'''\n",
    "\n",
    "with open('Insert_HoaDon.sql', 'w') as f:\n",
    "    f.write(sql_command)"
   ]
  },
  {
   "cell_type": "code",
   "execution_count": 20,
   "metadata": {},
   "outputs": [],
   "source": [
    "sql_command = f'''\n",
    "DELETE FROM PhieuDatMon \\nGO \\n\n",
    "SET IDENTITY_INSERT PhieuDatMon ON \\n\n",
    "\n",
    "{'; \\n'.join(map(lambda x: f\"INSERT INTO PhieuDatMon (MaHD, MaPhieu, NgayLap, MaBan, MaNV, TongTien) VALUES ({x['MaHD']}, {x['MaPhieu']}, '{x['NgayLap']}', '{x['MaBan']}', '{x['MaNV']}', {x['TongTien']})\", phieu_dat_mon_list.to_dict(orient='records')))}; \\n\n",
    "'''\n",
    "\n",
    "with open('Insert_PhieuDatMon.sql', 'w') as f:\n",
    "    f.write(sql_command)"
   ]
  },
  {
   "cell_type": "code",
   "execution_count": 21,
   "metadata": {},
   "outputs": [],
   "source": [
    "chunk_size = len(Chon_Mon) // 15\n",
    "chunks = [Chon_Mon.iloc[i:i + chunk_size] for i in range(0, len(Chon_Mon), chunk_size)]\n",
    "\n",
    "for idx, chunk in enumerate(chunks):\n",
    "    sql_command = f'''\n",
    "DELETE FROM ChonMon \\nGO \\n\n",
    "SET IDENTITY_INSERT ChonMon ON \\n\n",
    "{'; \\n'.join(map(lambda x: f\"INSERT INTO ChonMon (MaPhieu, MaMon, SoLuong, TongTien) VALUES ({x['MaPhieu']}, {x['MaMon']}, {x['SoLuong']}, {x['TongTien']})\", chunk.to_dict(orient='records')))}; \\n\n",
    "'''\n",
    "    with open(f'Insert_ChonMon_part_{idx + 1}.sql', 'w') as f:\n",
    "        f.write(sql_command)"
   ]
  },
  {
   "cell_type": "markdown",
   "metadata": {},
   "source": [
    "# Chuyển Chi Nhánh"
   ]
  },
  {
   "cell_type": "code",
   "execution_count": 10,
   "metadata": {},
   "outputs": [],
   "source": [
    "import random\n",
    "from datetime import datetime, timedelta\n",
    "\n",
    "workingDate = {\n",
    "    \"start\": datetime.strptime('1/1/2010', \"%d/%m/%Y\"),\n",
    "    \"end\": datetime.strptime('31/10/2024', \"%d/%m/%Y\")\n",
    "}\n",
    "\n",
    "workingHour = {\n",
    "    \"start\": datetime.strptime('9:00', \"%H:%M\"),\n",
    "    \"end\": datetime.strptime('22:00', \"%H:%M\")\n",
    "}\n",
    "\n",
    "def RandomDateTime(scope):\n",
    "    start = scope[\"start\"]\n",
    "    end = scope[\"end\"]\n",
    "    delta = end - start\n",
    "    int_delta = delta.days\n",
    "    random_day = random.randint(0, int_delta)\n",
    "    random_time = workingHour[\"start\"] + timedelta(seconds=random.randint(0, (workingHour[\"end\"] - workingHour[\"start\"]).seconds))\n",
    "    return (start + timedelta(days=random_day)).strftime(\"%d-%m-%Y\") + \" \" + random_time.strftime(\"%H:%M:%S\")\n",
    "\n",
    "def CreateADateLaterThan(date, days):\n",
    "    return (date + timedelta(days)).strftime(\"%d-%m-%Y\")"
   ]
  },
  {
   "cell_type": "code",
   "execution_count": 11,
   "metadata": {},
   "outputs": [],
   "source": [
    "NhanVien = pd.read_csv('NhanVien.csv')\n",
    "ChiNhanh = pd.read_csv('ChiNhanh.csv')"
   ]
  },
  {
   "cell_type": "code",
   "execution_count": 33,
   "metadata": {},
   "outputs": [],
   "source": [
    "DaThoiViec = NhanVien[NhanVien['NgayNghiViec'].notnull()]\n",
    "\n",
    "DoiCN = []\n",
    "\n",
    "for i in range(len(DaThoiViec)):\n",
    "    start_date = datetime.strptime(DaThoiViec['NgayVaoLam'].iloc[i], \"%d-%m-%Y\")\n",
    "    end_date = datetime.strptime(DaThoiViec['NgayNghiViec'].iloc[i], \"%d-%m-%Y\")\n",
    "    \n",
    "    NgayNghiViec = datetime.strptime(DaThoiViec['NgayNghiViec'].iloc[0], \"%d-%m-%Y\")\n",
    "    NgayVaoLam = datetime.strptime(DaThoiViec['NgayVaoLam'].iloc[0], \"%d-%m-%Y\")\n",
    "    working_time = (NgayNghiViec - NgayVaoLam).days\n",
    "    for j in range(len(ChiNhanh)):\n",
    "        DoiCN.append({\n",
    "            \"MaNV\": DaThoiViec['MaNV'].iloc[i],\n",
    "            \"MaCN\": j+1,\n",
    "            \"NgayBatDau\": start_date.strftime(\"%d-%m-%Y\"),\n",
    "            \"NgayKetThuc\": (start_date + timedelta(days=working_time // len(ChiNhanh))).strftime(\"%d-%m-%Y\")\n",
    "        })\n",
    "        start_date = start_date + timedelta(days=8)\n",
    "    "
   ]
  },
  {
   "cell_type": "code",
   "execution_count": 35,
   "metadata": {},
   "outputs": [],
   "source": [
    "DoiCN = pd.DataFrame(DoiCN)\n",
    "DoiCN.to_csv('DoiCN.csv', index=False)\n",
    "\n",
    "sql_command = f'''\n",
    "DELETE FROM DoiCN \\nGO \\n\n",
    "SET IDENTITY_INSERT DoiCN ON \\n\n",
    "'''\n",
    "\n",
    "sql_command += \";\\n\".join(map(lambda x: f\"INSERT INTO DoiCN (MaNV, MaCN, NgayBatDau, NgayKetThuc) VALUES ({x['MaNV']}, {x['MaCN']}, '{x['NgayBatDau']}', '{x['NgayKetThuc']}')\", DoiCN.to_dict(orient='records'))) + \"; \\n\"\n",
    "                          \n",
    "with open('Insert_DoiCN.sql', 'w') as f:\n",
    "    f.write(sql_command)"
   ]
  },
  {
   "cell_type": "markdown",
   "metadata": {},
   "source": [
    "# TẠO THỰC ĐƠN THEO KHU VỰC"
   ]
  },
  {
   "cell_type": "code",
   "execution_count": 2,
   "metadata": {},
   "outputs": [],
   "source": [
    "import random\n",
    "from datetime import datetime, timedelta\n",
    "import pandas as pd"
   ]
  },
  {
   "cell_type": "code",
   "execution_count": 37,
   "metadata": {},
   "outputs": [],
   "source": [
    "MonAn = pd.read_csv('MonAn.csv')\n",
    "PhucVu = pd.read_csv('PhucVu.csv')\n",
    "ChiNhanh = pd.read_csv('ChiNhanh.csv')\n",
    "\n",
    "ThucDon = []\n",
    "\n",
    "for i in [\"MB\", \"MN\", \"MT\"]:\n",
    "    for j in range(len(MonAn)):\n",
    "        ThucDon.append({\n",
    "            \"MaKV\": i,\n",
    "            \"MaMon\": j+1,\n",
    "        })\n",
    "\n",
    "for i in range(10):        \n",
    "    ThucDon.pop(random.randint(0, len(ThucDon)-1))\n"
   ]
  },
  {
   "cell_type": "code",
   "execution_count": null,
   "metadata": {},
   "outputs": [],
   "source": [
    "ChiNhanh"
   ]
  },
  {
   "cell_type": "code",
   "execution_count": 38,
   "metadata": {},
   "outputs": [],
   "source": [
    "sql_command = f'''\n",
    "DELETE FROM ThucDon \\nGO \\n\n",
    "SET IDENTITY_INSERT ThucDon ON \\n\n",
    "'''\n",
    "sql_command += \";\\n\".join(map(lambda x: f\"INSERT INTO ThucDon (MaKV, MaMon) VALUES ({x['MaKV']}, {x['MaMon']})\", ThucDon)) + \"; \\n\"\n",
    "\n",
    "with open('Insert_ThucDon.sql', 'w') as f:\n",
    "    f.write(sql_command)\n"
   ]
  },
  {
   "cell_type": "markdown",
   "metadata": {},
   "source": [
    "# Phục Vụ Theo Chi Nhánh"
   ]
  },
  {
   "cell_type": "code",
   "execution_count": null,
   "metadata": {},
   "outputs": [],
   "source": [
    "ThucDon = pd.DataFrame(ThucDon)"
   ]
  },
  {
   "cell_type": "code",
   "execution_count": 64,
   "metadata": {},
   "outputs": [],
   "source": [
    "sql_command = f'''\n",
    "DELETE FROM PhucVu \\nGO \\n\n",
    "SET IDENTITY_INSERT PhucVu ON \\n\n",
    "'''\n",
    "\n",
    "for i in range(len(ChiNhanh)):\n",
    "    ThucDon_ChiNhanh = pd.DataFrame(ThucDon[ThucDon['MaKV'] == ChiNhanh['KhuVuc'][i]])\n",
    "    ThucDon_ChiNhanh[\"isServe\"] = 1\n",
    "    for j in range(5):\n",
    "        ThucDon_ChiNhanh.at[random.randint(0, len(ThucDon_ChiNhanh)-1), 'isServe'] = 0\n",
    "    sql_command += \";\\n\".join(list(map(lambda x: f\"INSERT INTO PhucVu (MaTD, MaMon, isServed) VALUES ({i+1}, {x['MaMon']}, {x['isServe']})\", ThucDon_ChiNhanh.to_dict(orient='records')))) + \"; \\n\""
   ]
  },
  {
   "cell_type": "code",
   "execution_count": 65,
   "metadata": {},
   "outputs": [],
   "source": [
    "with open('Insert_PhucVu.sql', 'w') as f:\n",
    "    f.write(sql_command)  "
   ]
  },
  {
   "cell_type": "code",
   "execution_count": null,
   "metadata": {},
   "outputs": [],
   "source": [
    "ThucDon"
   ]
  },
  {
   "cell_type": "code",
   "execution_count": 3,
   "metadata": {},
   "outputs": [],
   "source": [
    "import pandas as pd"
   ]
  },
  {
   "cell_type": "code",
   "execution_count": 6,
   "metadata": {},
   "outputs": [],
   "source": [
    "mabans = []\n",
    "maCN = []\n",
    "\n",
    "count =1\n",
    "\n",
    "for i in range(1,16):\n",
    "    for j in range(1,16):\n",
    "        mabans.append(count)\n",
    "        count+=1\n",
    "        maCN.append(i)"
   ]
  },
  {
   "cell_type": "code",
   "execution_count": 7,
   "metadata": {},
   "outputs": [],
   "source": [
    "Ban_table = pd.DataFrame()\n",
    "\n",
    "Ban_table['MaBan'] = mabans\n",
    "Ban_table['MaCN'] = maCN\n",
    "Ban_table['MaHD'] = None\n",
    "Ban_table['TinhTrang'] = 1\n",
    "\n",
    "Ban_table.to_csv('Ban.csv', index=False)"
   ]
  },
  {
   "cell_type": "code",
   "execution_count": 8,
   "metadata": {},
   "outputs": [],
   "source": [
    "sql_command = f'''\n",
    "DELETE FROM Ban \\nGO \\n\n",
    "SET IDENTITY_INSERT Ban ON \\n\n",
    "'''\n",
    "\n",
    "sql_command += \";\\n\".join(list(map(lambda x: f\"INSERT INTO Ban (MaBan, MaCN, MaHD, TinhTrang) VALUES ({x['MaBan']}, {x['MaCN']}, {x['MaHD']}, {x['TinhTrang']})\", Ban_table.to_dict(orient='records')))) + \"; \\n\"\n",
    "\n",
    "with open('Insert_Ban.sql', 'w') as f:\n",
    "    f.write(sql_command)"
   ]
  }
 ],
 "metadata": {
  "kernelspec": {
   "display_name": "base",
   "language": "python",
   "name": "python3"
  },
  "language_info": {
   "codemirror_mode": {
    "name": "ipython",
    "version": 3
   },
   "file_extension": ".py",
   "mimetype": "text/x-python",
   "name": "python",
   "nbconvert_exporter": "python",
   "pygments_lexer": "ipython3",
   "version": "3.12.3"
  }
 },
 "nbformat": 4,
 "nbformat_minor": 2
}
